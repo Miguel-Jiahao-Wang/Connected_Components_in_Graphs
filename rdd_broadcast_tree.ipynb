{
 "cells": [
  {
   "cell_type": "code",
   "execution_count": 1,
   "metadata": {},
   "outputs": [],
   "source": [
    "from pyspark import SparkContext, SparkConf\n",
    "conf = SparkConf().setAppName(\"pyspark\")\n",
    "sc = SparkContext(conf=conf)"
   ]
  },
  {
   "cell_type": "code",
   "execution_count": 205,
   "metadata": {},
   "outputs": [],
   "source": [
    "#btc_raw = sc.parallelize([(0,1), (1,2), (2,5), (5,8), (7,8), (3,7), (3,4), (3,6)])\n",
    "btc_raw = sc.parallelize([(0,1), (1,2), (2,5), (5,8), (7,8), (3,7), (3,4), (3,6), (10,9)])\n",
    "G = btc_raw.flatMap(lambda x: [x, (x[1], x[0])]).groupByKey().map(lambda x: (x[0], set(x[1])))"
   ]
  },
  {
   "cell_type": "code",
   "execution_count": 206,
   "metadata": {},
   "outputs": [],
   "source": [
    "def included(node, NN_H):\n",
    "    if node in NN_H:\n",
    "        return node\n",
    "    \n",
    "def get_nodes(graph):\n",
    "    return graph.map(lambda x: x[0])\n",
    "\n",
    "def temp(rdd):\n",
    "    if len(rdd[1][1]) != 0:\n",
    "        return rdd[1][1][0]\n",
    "    else:\n",
    "        return [None]"
   ]
  },
  {
   "cell_type": "code",
   "execution_count": 207,
   "metadata": {},
   "outputs": [],
   "source": [
    "#Version with broadcasting in the addEdge step on both Min_Selection_Step and Pruning_Step\n",
    "\n",
    "def Min_Selection_Step(G): #dictionary format RDD\n",
    "    v_min = G.map(lambda x: (x[0], min(x[1] | {x[0]})))\n",
    "    NN_G_u = G.map(lambda x: (x[0], (x[1] | {x[0]})))\n",
    "    \n",
    "    #Broadcasting\n",
    "    v_min_bc = sc.broadcast(dict(v_min.collect()))\n",
    "    addEdge = NN_G_u.map(lambda x: (x[0], (x[1], v_min_bc.value[x[0]]))).flatMap(lambda x: [(y, x[1][1]) for y in x[1][0]])\n",
    "    #Without broadcasting\n",
    "    #addEdge = NN_G_u.join(v_min).flatMap(lambda x: [(y, x[1][1]) for y in x[1][0]])\n",
    "    H = addEdge.groupByKey().map(lambda x: (x[0], set(x[1])))\n",
    "    return H\n",
    "\n",
    "def Pruning_Step(H, T):\n",
    "    H_filtered = H.filter(lambda x: len(x[1]) > 1)\n",
    "    NN_H_u = H_filtered.map(lambda x: (x[0], x[1] - {min(x[1])} ))\n",
    "    v_min = H.map(lambda x: (x[0], min(x[1]))) \n",
    "    \n",
    "    #Broadcasting\n",
    "    v_min_bc = sc.broadcast(dict(v_min.collect()))\n",
    "    addEdge2 = NN_H_u.map(lambda x: (x[0], (x[1], v_min_bc.value[x[0]]))).flatMap(lambda x: [(x[1][1], y) for y in x[1][0]])\n",
    "    #Without broadcasting\n",
    "    #addEdge2 = NN_H_u.join(v_min).flatMap(lambda x: [(x[1][1], y) for y in x[1][0]])\n",
    "    G = addEdge2.flatMap(lambda x: [x, (x[1], x[0])]).groupByKey().map(lambda x: (x[0], set(x[1])))\n",
    "    \n",
    "    #!!!!!!!!!!!!!!!!!!!!!!!!!!\n",
    "    #If u not in NN: still missing the IsSeed part and solve the Nones here\n",
    "    H_non = H.filter(lambda x: x[0] not in x[1])\n",
    "    a = H_non.map(lambda x: (v_min_bc.value[x[0]], x[0])).groupByKey().map(lambda x: (x[0], set(x[1])))\n",
    "    b = T.cogroup(a).map(lambda x: (x[0], [list(x[1][0])[0], list(x[1][1])]))\n",
    "    T = b.map(lambda x: (x[0], x[1][0] | set(temp(x))))\n",
    "    return G, T \n",
    "\n",
    "def cracker(G_i):\n",
    "    \n",
    "    count = 0\n",
    "    T = G.map(lambda x: (x[0], set([])))\n",
    "    \n",
    "    while G_i.take(1):\n",
    "        count += 1\n",
    "        H_i = Min_Selection_Step(G_i)\n",
    "        G_i, T = Pruning_Step(H_i, T)\n",
    "        \n",
    "    return T\n"
   ]
  },
  {
   "cell_type": "code",
   "execution_count": 209,
   "metadata": {},
   "outputs": [
    {
     "data": {
      "text/plain": [
       "[(0, {1, 2, 3, 5, None}),\n",
       " (1, {None}),\n",
       " (2, {8, None}),\n",
       " (3, {4, 6, 7, None}),\n",
       " (4, {None}),\n",
       " (5, {None}),\n",
       " (6, {None}),\n",
       " (7, {None}),\n",
       " (8, {None}),\n",
       " (9, {10, None}),\n",
       " (10, {None})]"
      ]
     },
     "execution_count": 209,
     "metadata": {},
     "output_type": "execute_result"
    }
   ],
   "source": [
    "cracker(G).collect()"
   ]
  },
  {
   "cell_type": "code",
   "execution_count": 214,
   "metadata": {},
   "outputs": [
    {
     "name": "stdout",
     "output_type": "stream",
     "text": [
      "[(0, {0}), (8, {2, 3, 5}), (4, {3}), (1, {0, 1}), (5, {1, 2, 5}), (9, {9}), (2, {0, 1, 2}), (10, {9}), (6, {3}), (7, {3, 5}), (3, {3})]\n"
     ]
    },
    {
     "data": {
      "text/plain": [
       "[(0, {0}), (9, {9}), (3, {3})]"
      ]
     },
     "execution_count": 214,
     "metadata": {},
     "output_type": "execute_result"
    }
   ],
   "source": [
    "H = Min_Selection_Step(G)\n",
    "print(H.collect())\n",
    "\n",
    "a = H.filter(lambda x: ( (len(x[1]) <= 1) & (x[0] in x[1])))\n",
    "a.collect()\n",
    "\n",
    "#We have to remove those that are not active, which are 0 and 3\n",
    "#Either include this info in the value of each node \n",
    "#or maybe taking those that are not in the result of former two phases??"
   ]
  },
  {
   "cell_type": "code",
   "execution_count": null,
   "metadata": {},
   "outputs": [],
   "source": []
  }
 ],
 "metadata": {
  "kernelspec": {
   "display_name": "Python 3",
   "language": "python",
   "name": "python3"
  },
  "language_info": {
   "codemirror_mode": {
    "name": "ipython",
    "version": 3
   },
   "file_extension": ".py",
   "mimetype": "text/x-python",
   "name": "python",
   "nbconvert_exporter": "python",
   "pygments_lexer": "ipython3",
   "version": "3.6.4"
  }
 },
 "nbformat": 4,
 "nbformat_minor": 2
}
