{
 "cells": [
  {
   "cell_type": "code",
   "execution_count": 910,
   "metadata": {},
   "outputs": [],
   "source": [
    "from collections import defaultdict "
   ]
  },
  {
   "cell_type": "code",
   "execution_count": 911,
   "metadata": {},
   "outputs": [],
   "source": [
    "#This class represents a directed graph using adjacency list representation \n",
    "class Graph: \n",
    "   \n",
    "    def __init__(self): \n",
    "        self.graph = defaultdict(set) # default dictionary to store graph \n",
    "        #self.T = Tree() #propagation tree\n",
    "        \n",
    "    def get_vertices(self):\n",
    "        return(set(self.graph.keys()))\n",
    "   \n",
    "    # function to add an edge to graph \n",
    "    def addEdge(self,u,v, bidirection = True): \n",
    "        \n",
    "        self.graph[u] |= {v}\n",
    "        if bidirection:\n",
    "            self.graph[v] |= {u} #bidirectional\n",
    "   \n",
    "    def fillOrder(self,v,visited, stack): \n",
    "        # Mark the current node as visited  \n",
    "        visited[v]= True\n",
    "        #Recur for all the vertices adjacent to this vertex \n",
    "        for i in self.graph[v]: \n",
    "            if visited[i]==False: \n",
    "                self.fillOrder(i, visited, stack) \n",
    "        stack = stack.append(v) \n",
    "      \n",
    "   \n",
    "    def Min_Selection_Step(self):\n",
    "                \n",
    "        \n",
    "        stack = [] \n",
    "        visited ={x:False for x in self.get_vertices()}\n",
    "        for i in self.get_vertices(): \n",
    "            if visited[i]==False: \n",
    "                self.fillOrder(i, visited, stack) \n",
    "          \n",
    "        visited ={x:False for x in self.get_vertices()}\n",
    "      \n",
    "        H = Graph()\n",
    "                \n",
    "        while stack: \n",
    "            u = stack.pop() \n",
    "            if visited[u]==False: \n",
    "                NN_G_vertice = self.graph[u]\n",
    "                v_min = min(NN_G_vertice | {u})\n",
    "            \n",
    "                for v in NN_G_vertice | {u}:\n",
    "\n",
    "                    H.addEdge(v, v_min, bidirection = False)\n",
    "                                         \n",
    "        return(H)\n",
    "    \n",
    "    def Pruning_Step(self, tree): \n",
    "        stack = [] \n",
    "        visited ={x:False for x in self.get_vertices()}\n",
    "\n",
    "        for i in self.get_vertices(): \n",
    "            if visited[i]==False: \n",
    "                self.fillOrder(i, visited, stack) \n",
    "\n",
    "          \n",
    "        visited ={x:False for x in self.get_vertices()}\n",
    "        G_next = Graph() \n",
    "        \n",
    "        while stack: \n",
    "            u = stack.pop() \n",
    "            if visited[u]==False:\n",
    "                \n",
    "                NN_H_vertice = self.graph[u]\n",
    "                v_min = min(NN_H_vertice)\n",
    "                if len(NN_H_vertice) > 1:\n",
    "                    \n",
    "                    for v in (NN_H_vertice - {v_min}):\n",
    "                        G_next.addEdge(v_min, v, bidirection = True)\n",
    "                \n",
    "                if u not in NN_H_vertice:\n",
    "                    tree.addEdge(v_min, u)\n",
    "                    tree.setSeed(v_min, u)\n",
    "        \n",
    "        return(G_next)\n",
    "                        \n",
    "class Tree:\n",
    "    def __init__(self): \n",
    "        self.tree = defaultdict(set) \n",
    "        self.seed = set()\n",
    "    def addEdge(self,u,v): \n",
    "        \n",
    "        self.tree[u] |= {v}\n",
    "        \n",
    "    def setSeed(self,u,v):\n",
    "        self.seed |= {u}\n",
    "        self.seed -= {v} "
   ]
  },
  {
   "cell_type": "code",
   "execution_count": 912,
   "metadata": {},
   "outputs": [],
   "source": [
    "# Create a graph given in the above diagram \n",
    "g = Graph() \n",
    "g.addEdge(0, 1) \n",
    "g.addEdge(1, 2) \n",
    "g.addEdge(2, 5) \n",
    "g.addEdge(5, 8) \n",
    "g.addEdge(7, 8) \n",
    "g.addEdge(3, 7) \n",
    "g.addEdge(3, 4) \n",
    "g.addEdge(3, 6) "
   ]
  },
  {
   "cell_type": "code",
   "execution_count": 913,
   "metadata": {},
   "outputs": [
    {
     "data": {
      "text/plain": [
       "defaultdict(set,\n",
       "            {0: {1},\n",
       "             1: {0, 2},\n",
       "             2: {1, 5},\n",
       "             3: {4, 6, 7},\n",
       "             4: {3},\n",
       "             5: {2, 8},\n",
       "             6: {3},\n",
       "             7: {3, 8},\n",
       "             8: {5, 7}})"
      ]
     },
     "execution_count": 913,
     "metadata": {},
     "output_type": "execute_result"
    }
   ],
   "source": [
    "g.graph #by default diretional"
   ]
  },
  {
   "cell_type": "code",
   "execution_count": 914,
   "metadata": {},
   "outputs": [],
   "source": [
    "def Cracker_1(G):\n",
    "    tree = Tree()\n",
    "    t = 0\n",
    "    #print(\"G1:\", G.graph)\n",
    "    while(len(G.graph)) > 0:\n",
    "        t += 1\n",
    "        H = G.Min_Selection_Step()\n",
    "        #print(\"H{t}:\".format(t = t), H.graph)\n",
    "        G = H.Pruning_Step(tree)\n",
    "        \n",
    "        #print(\"Tree seed:\", tree.seed)\n",
    "\n",
    "        #print(\"G{t}:\".format(t = t+1), G.graph)\n",
    "        \n",
    "    #print(tree.seed)\n",
    "    print(tree.seed)"
   ]
  },
  {
   "cell_type": "code",
   "execution_count": 915,
   "metadata": {},
   "outputs": [
    {
     "name": "stdout",
     "output_type": "stream",
     "text": [
      "{0}\n"
     ]
    }
   ],
   "source": [
    "Cracker_1(g)"
   ]
  },
  {
   "cell_type": "code",
   "execution_count": 930,
   "metadata": {},
   "outputs": [],
   "source": [
    "import os"
   ]
  },
  {
   "cell_type": "code",
   "execution_count": 932,
   "metadata": {},
   "outputs": [
    {
     "data": {
      "text/plain": [
       "6096"
      ]
     },
     "execution_count": 932,
     "metadata": {},
     "output_type": "execute_result"
    }
   ],
   "source": [
    "os.path.getsize('simulated_blockmodel_graph_100_nodes/simulated_blockmodel_graph_100_nodes.tsv')"
   ]
  },
  {
   "cell_type": "code",
   "execution_count": 918,
   "metadata": {},
   "outputs": [],
   "source": [
    "G_100 = Graph() \n",
    "for line in open('simulated_blockmodel_graph_100_nodes/simulated_blockmodel_graph_100_nodes.tsv',\"r\"):\n",
    "    node_1, node_2, c = line.strip().split(\"\\t\")\n",
    "    G_100.addEdge(int(node_1), int(node_2))\n",
    "    G_100.addEdge(int(node_1) + 100, int(node_2) + 100)\n",
    "    G_100.addEdge(int(node_1) + 200, int(node_2) + 200)\n",
    "    G_100.addEdge(int(node_1) + 300, int(node_2) + 300)\n",
    "    G_100.addEdge(int(node_1) + 400, int(node_2) + 400)\n",
    "    G_100.addEdge(int(node_1) + 500, int(node_2) + 500)\n",
    "    G_100.addEdge(int(node_1) + 600, int(node_2) + 600)"
   ]
  },
  {
   "cell_type": "code",
   "execution_count": 919,
   "metadata": {},
   "outputs": [
    {
     "name": "stdout",
     "output_type": "stream",
     "text": [
      "{1, 201, 401, 601, 101, 301, 501}\n"
     ]
    }
   ],
   "source": [
    "Cracker_1(G_100)"
   ]
  },
  {
   "cell_type": "code",
   "execution_count": 933,
   "metadata": {},
   "outputs": [
    {
     "data": {
      "text/plain": [
       "523802"
      ]
     },
     "execution_count": 933,
     "metadata": {},
     "output_type": "execute_result"
    }
   ],
   "source": [
    "os.path.getsize('facebook/107.edges')"
   ]
  },
  {
   "cell_type": "code",
   "execution_count": 920,
   "metadata": {},
   "outputs": [],
   "source": [
    "G_fb = Graph()\n",
    "for line in open('facebook/107.edges',\"r\"): \n",
    "    node_1, node_2 = line.strip().split(\" \")\n",
    "    G_fb.addEdge(int(node_1), int(node_2))\n",
    " "
   ]
  },
  {
   "cell_type": "code",
   "execution_count": 921,
   "metadata": {},
   "outputs": [
    {
     "name": "stdout",
     "output_type": "stream",
     "text": [
      "{0}\n"
     ]
    }
   ],
   "source": [
    "Cracker_1(G_fb)"
   ]
  },
  {
   "cell_type": "code",
   "execution_count": 934,
   "metadata": {},
   "outputs": [
    {
     "data": {
      "text/plain": [
       "503131"
      ]
     },
     "execution_count": 934,
     "metadata": {},
     "output_type": "execute_result"
    }
   ],
   "source": [
    "os.path.getsize('soc-sign-bitcoinalpha.csv')"
   ]
  },
  {
   "cell_type": "code",
   "execution_count": 922,
   "metadata": {},
   "outputs": [],
   "source": [
    "G_btc = Graph()\n",
    "for line in open('soc-sign-bitcoinalpha.csv',\"r\"):\n",
    "    edge = line.strip().split(\",\")\n",
    "    #print(edge)\n",
    "    G_btc.addEdge(int(edge[0]), int(edge[1]))"
   ]
  },
  {
   "cell_type": "code",
   "execution_count": 923,
   "metadata": {},
   "outputs": [
    {
     "name": "stdout",
     "output_type": "stream",
     "text": [
      "{1, 1870, 1389, 3228, 5837}\n"
     ]
    }
   ],
   "source": [
    "Cracker_1(G_btc)"
   ]
  },
  {
   "cell_type": "code",
   "execution_count": 935,
   "metadata": {},
   "outputs": [
    {
     "data": {
      "text/plain": [
       "149105445"
      ]
     },
     "execution_count": 935,
     "metadata": {},
     "output_type": "execute_result"
    }
   ],
   "source": [
    "os.path.getsize('as-skitter.txt')"
   ]
  },
  {
   "cell_type": "code",
   "execution_count": 928,
   "metadata": {},
   "outputs": [],
   "source": [
    "G_skitter = Graph()\n",
    "for line in open('as-skitter.txt',\"r\"):\n",
    "    edge = line.strip().split(\"\\t\")\n",
    "    #print(edge)\n",
    "    G_skitter.addEdge(int(edge[0]), int(edge[1]))"
   ]
  },
  {
   "cell_type": "code",
   "execution_count": 929,
   "metadata": {},
   "outputs": [
    {
     "ename": "RecursionError",
     "evalue": "maximum recursion depth exceeded in comparison",
     "output_type": "error",
     "traceback": [
      "\u001b[0;31m---------------------------------------------------------------------------\u001b[0m",
      "\u001b[0;31mRecursionError\u001b[0m                            Traceback (most recent call last)",
      "\u001b[0;32m<ipython-input-929-b18ff64ec3be>\u001b[0m in \u001b[0;36m<module>\u001b[0;34m()\u001b[0m\n\u001b[0;32m----> 1\u001b[0;31m \u001b[0mCracker_1\u001b[0m\u001b[0;34m(\u001b[0m\u001b[0mG_skitter\u001b[0m\u001b[0;34m)\u001b[0m\u001b[0;34m\u001b[0m\u001b[0m\n\u001b[0m",
      "\u001b[0;32m<ipython-input-914-de8985296c57>\u001b[0m in \u001b[0;36mCracker_1\u001b[0;34m(G)\u001b[0m\n\u001b[1;32m      5\u001b[0m     \u001b[0;32mwhile\u001b[0m\u001b[0;34m(\u001b[0m\u001b[0mlen\u001b[0m\u001b[0;34m(\u001b[0m\u001b[0mG\u001b[0m\u001b[0;34m.\u001b[0m\u001b[0mgraph\u001b[0m\u001b[0;34m)\u001b[0m\u001b[0;34m)\u001b[0m \u001b[0;34m>\u001b[0m \u001b[0;36m0\u001b[0m\u001b[0;34m:\u001b[0m\u001b[0;34m\u001b[0m\u001b[0m\n\u001b[1;32m      6\u001b[0m         \u001b[0mt\u001b[0m \u001b[0;34m+=\u001b[0m \u001b[0;36m1\u001b[0m\u001b[0;34m\u001b[0m\u001b[0m\n\u001b[0;32m----> 7\u001b[0;31m         \u001b[0mH\u001b[0m \u001b[0;34m=\u001b[0m \u001b[0mG\u001b[0m\u001b[0;34m.\u001b[0m\u001b[0mMin_Selection_Step\u001b[0m\u001b[0;34m(\u001b[0m\u001b[0;34m)\u001b[0m\u001b[0;34m\u001b[0m\u001b[0m\n\u001b[0m\u001b[1;32m      8\u001b[0m         \u001b[0;31m#print(\"H{t}:\".format(t = t), H.graph)\u001b[0m\u001b[0;34m\u001b[0m\u001b[0;34m\u001b[0m\u001b[0m\n\u001b[1;32m      9\u001b[0m         \u001b[0mG\u001b[0m \u001b[0;34m=\u001b[0m \u001b[0mH\u001b[0m\u001b[0;34m.\u001b[0m\u001b[0mPruning_Step\u001b[0m\u001b[0;34m(\u001b[0m\u001b[0mtree\u001b[0m\u001b[0;34m)\u001b[0m\u001b[0;34m\u001b[0m\u001b[0m\n",
      "\u001b[0;32m<ipython-input-911-68da27e14bab>\u001b[0m in \u001b[0;36mMin_Selection_Step\u001b[0;34m(self)\u001b[0m\n\u001b[1;32m     36\u001b[0m         \u001b[0;32mfor\u001b[0m \u001b[0mi\u001b[0m \u001b[0;32min\u001b[0m \u001b[0mself\u001b[0m\u001b[0;34m.\u001b[0m\u001b[0mget_vertices\u001b[0m\u001b[0;34m(\u001b[0m\u001b[0;34m)\u001b[0m\u001b[0;34m:\u001b[0m\u001b[0;34m\u001b[0m\u001b[0m\n\u001b[1;32m     37\u001b[0m             \u001b[0;32mif\u001b[0m \u001b[0mvisited\u001b[0m\u001b[0;34m[\u001b[0m\u001b[0mi\u001b[0m\u001b[0;34m]\u001b[0m\u001b[0;34m==\u001b[0m\u001b[0;32mFalse\u001b[0m\u001b[0;34m:\u001b[0m\u001b[0;34m\u001b[0m\u001b[0m\n\u001b[0;32m---> 38\u001b[0;31m                 \u001b[0mself\u001b[0m\u001b[0;34m.\u001b[0m\u001b[0mfillOrder\u001b[0m\u001b[0;34m(\u001b[0m\u001b[0mi\u001b[0m\u001b[0;34m,\u001b[0m \u001b[0mvisited\u001b[0m\u001b[0;34m,\u001b[0m \u001b[0mstack\u001b[0m\u001b[0;34m)\u001b[0m\u001b[0;34m\u001b[0m\u001b[0m\n\u001b[0m\u001b[1;32m     39\u001b[0m \u001b[0;34m\u001b[0m\u001b[0m\n\u001b[1;32m     40\u001b[0m \u001b[0;34m\u001b[0m\u001b[0m\n",
      "\u001b[0;32m<ipython-input-911-68da27e14bab>\u001b[0m in \u001b[0;36mfillOrder\u001b[0;34m(self, v, visited, stack)\u001b[0m\n\u001b[1;32m     23\u001b[0m         \u001b[0;32mfor\u001b[0m \u001b[0mi\u001b[0m \u001b[0;32min\u001b[0m \u001b[0mself\u001b[0m\u001b[0;34m.\u001b[0m\u001b[0mgraph\u001b[0m\u001b[0;34m[\u001b[0m\u001b[0mv\u001b[0m\u001b[0;34m]\u001b[0m\u001b[0;34m:\u001b[0m\u001b[0;34m\u001b[0m\u001b[0m\n\u001b[1;32m     24\u001b[0m             \u001b[0;32mif\u001b[0m \u001b[0mvisited\u001b[0m\u001b[0;34m[\u001b[0m\u001b[0mi\u001b[0m\u001b[0;34m]\u001b[0m\u001b[0;34m==\u001b[0m\u001b[0;32mFalse\u001b[0m\u001b[0;34m:\u001b[0m\u001b[0;34m\u001b[0m\u001b[0m\n\u001b[0;32m---> 25\u001b[0;31m                 \u001b[0mself\u001b[0m\u001b[0;34m.\u001b[0m\u001b[0mfillOrder\u001b[0m\u001b[0;34m(\u001b[0m\u001b[0mi\u001b[0m\u001b[0;34m,\u001b[0m \u001b[0mvisited\u001b[0m\u001b[0;34m,\u001b[0m \u001b[0mstack\u001b[0m\u001b[0;34m)\u001b[0m\u001b[0;34m\u001b[0m\u001b[0m\n\u001b[0m\u001b[1;32m     26\u001b[0m         \u001b[0mstack\u001b[0m \u001b[0;34m=\u001b[0m \u001b[0mstack\u001b[0m\u001b[0;34m.\u001b[0m\u001b[0mappend\u001b[0m\u001b[0;34m(\u001b[0m\u001b[0mv\u001b[0m\u001b[0;34m)\u001b[0m\u001b[0;34m\u001b[0m\u001b[0m\n\u001b[1;32m     27\u001b[0m \u001b[0;34m\u001b[0m\u001b[0m\n",
      "... last 1 frames repeated, from the frame below ...\n",
      "\u001b[0;32m<ipython-input-911-68da27e14bab>\u001b[0m in \u001b[0;36mfillOrder\u001b[0;34m(self, v, visited, stack)\u001b[0m\n\u001b[1;32m     23\u001b[0m         \u001b[0;32mfor\u001b[0m \u001b[0mi\u001b[0m \u001b[0;32min\u001b[0m \u001b[0mself\u001b[0m\u001b[0;34m.\u001b[0m\u001b[0mgraph\u001b[0m\u001b[0;34m[\u001b[0m\u001b[0mv\u001b[0m\u001b[0;34m]\u001b[0m\u001b[0;34m:\u001b[0m\u001b[0;34m\u001b[0m\u001b[0m\n\u001b[1;32m     24\u001b[0m             \u001b[0;32mif\u001b[0m \u001b[0mvisited\u001b[0m\u001b[0;34m[\u001b[0m\u001b[0mi\u001b[0m\u001b[0;34m]\u001b[0m\u001b[0;34m==\u001b[0m\u001b[0;32mFalse\u001b[0m\u001b[0;34m:\u001b[0m\u001b[0;34m\u001b[0m\u001b[0m\n\u001b[0;32m---> 25\u001b[0;31m                 \u001b[0mself\u001b[0m\u001b[0;34m.\u001b[0m\u001b[0mfillOrder\u001b[0m\u001b[0;34m(\u001b[0m\u001b[0mi\u001b[0m\u001b[0;34m,\u001b[0m \u001b[0mvisited\u001b[0m\u001b[0;34m,\u001b[0m \u001b[0mstack\u001b[0m\u001b[0;34m)\u001b[0m\u001b[0;34m\u001b[0m\u001b[0m\n\u001b[0m\u001b[1;32m     26\u001b[0m         \u001b[0mstack\u001b[0m \u001b[0;34m=\u001b[0m \u001b[0mstack\u001b[0m\u001b[0;34m.\u001b[0m\u001b[0mappend\u001b[0m\u001b[0;34m(\u001b[0m\u001b[0mv\u001b[0m\u001b[0;34m)\u001b[0m\u001b[0;34m\u001b[0m\u001b[0m\n\u001b[1;32m     27\u001b[0m \u001b[0;34m\u001b[0m\u001b[0m\n",
      "\u001b[0;31mRecursionError\u001b[0m: maximum recursion depth exceeded in comparison"
     ]
    }
   ],
   "source": [
    "Cracker_1(G_skitter) #maximum recursion depth exceeded in comparison"
   ]
  },
  {
   "cell_type": "code",
   "execution_count": null,
   "metadata": {},
   "outputs": [],
   "source": []
  }
 ],
 "metadata": {
  "kernelspec": {
   "display_name": "Python 3",
   "language": "python",
   "name": "python3"
  },
  "language_info": {
   "codemirror_mode": {
    "name": "ipython",
    "version": 3
   },
   "file_extension": ".py",
   "mimetype": "text/x-python",
   "name": "python",
   "nbconvert_exporter": "python",
   "pygments_lexer": "ipython3",
   "version": "3.6.4"
  }
 },
 "nbformat": 4,
 "nbformat_minor": 2
}
