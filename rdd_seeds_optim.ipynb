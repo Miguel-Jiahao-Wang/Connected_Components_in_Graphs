{
 "cells": [
  {
   "cell_type": "code",
   "execution_count": 1,
   "metadata": {},
   "outputs": [],
   "source": [
    "from pyspark import SparkContext, SparkConf\n",
    "conf = SparkConf().setAppName(\"pyspark\")\n",
    "sc = SparkContext(conf=conf)"
   ]
  },
  {
   "cell_type": "code",
   "execution_count": 2,
   "metadata": {},
   "outputs": [],
   "source": [
    "#btc_raw = sc.textFile(\"graph_datasets/soc-sign-bitcoinalpha.csv\")\n",
    "#btc_raw.take(10)\n",
    "#btc = btc_raw.map(lambda x: x.split(\",\")).map(lambda x: (int(x[0]), int(x[1]))).flatMap(lambda x: [x, (x[1], x[0])]).groupByKey().mapValues(lambda x: set(x))"
   ]
  },
  {
   "cell_type": "markdown",
   "metadata": {},
   "source": [
    "# Finding seeds from tree (3 different findSeed functions)"
   ]
  },
  {
   "cell_type": "code",
   "execution_count": 66,
   "metadata": {},
   "outputs": [],
   "source": [
    "btc_raw = sc.parallelize([(0,1), (1,2), (2,5), (5,8), (7,8), (3,7), (3,4), (3,6), (10,11), (10,12), (12,13)])\n",
    "G = btc_raw.flatMap(lambda x: [x, (x[1], x[0])]).groupByKey().mapValues(lambda x: set(x))"
   ]
  },
  {
   "cell_type": "code",
   "execution_count": 79,
   "metadata": {},
   "outputs": [],
   "source": [
    "def Min_Selection_Step(G): #dictionary format RDD\n",
    "    v_min = G.map(lambda x: (x[0], min(x[1] | {x[0]})))\n",
    "    NN_G_u = G.map(lambda x: (x[0], (x[1] | {x[0]})))\n",
    "    \n",
    "    #Broadcasting\n",
    "    v_min_bc = sc.broadcast(dict(v_min.collect()))\n",
    "    addEdge = NN_G_u.map(lambda x: (x[0], (x[1], v_min_bc.value[x[0]]))).flatMap(lambda x: [(y, x[1][1]) for y in x[1][0]])\n",
    "    #Without broadcasting\n",
    "    #addEdge = NN_G_u.join(v_min).flatMap(lambda x: [(y, x[1][1]) for y in x[1][0]])\n",
    "    #H = addEdge.groupByKey().map(lambda x: (x[0], set(x[1])))\n",
    "    H = addEdge.groupByKey().mapValues(lambda x: set(x))\n",
    "    return H\n",
    "\n",
    "def Pruning_Step(H, T):\n",
    "    \n",
    "    #minimum node of the neighborhood: shared for following parts\n",
    "    v_min = H.map(lambda x: (x[0], min(x[1])))\n",
    "    v_min_bc = sc.broadcast(dict(v_min.collect())) #Broadcasting v_min\n",
    "    \n",
    "    #---------------G construction-------------------\n",
    "    H_filtered = H.filter(lambda x: len(x[1]) > 1)\n",
    "    #NN_H_u = H_filtered.map(lambda x: (x[0], x[1] - {min(x[1])} ))\n",
    "    NN_H_u = H_filtered.mapValues(lambda x: x - {min(x)} )\n",
    "    #With Broadcasting\n",
    "    addEdge2=NN_H_u.map(lambda x:(x[0],(x[1],v_min_bc.value[x[0]]))).flatMap(lambda x:[(x[1][1],y) for y in x[1][0]])\n",
    "    #Without broadcasting\n",
    "    #addEdge2 = NN_H_u.join(v_min).flatMap(lambda x: [(x[1][1], y) for y in x[1][0]])\n",
    "    G = addEdge2.flatMap(lambda x: [x, (x[1], x[0])]).groupByKey().mapValues(lambda x: set(x))\n",
    "    \n",
    "    #---------------Tree construction--------------\n",
    "    deactiveNodes = H.filter(lambda x: x[0] not in x[1]).mapValues(lambda x: None)\n",
    "    #Without broadcasting\n",
    "    #addEdge3 = deactiveNodes.join(v_min).map(lambda x: (x[1][1], x[0]))\n",
    "    #With Broadcasting\n",
    "    addEdge3 = deactiveNodes.map(lambda x: (x[0], (x[1], v_min_bc.value[x[0]]))).map(lambda x: (x[1][1], x[0]))\n",
    "    T = T.union(addEdge3)\n",
    "\n",
    "    return [G, T]\n",
    "\n",
    "#Finding seeds\n",
    "def findSeeds(T): \n",
    "    keys = T\n",
    "    values = T.map(lambda x:(x[1], x[0]))\n",
    "    return keys.subtractByKey(values).keys().distinct()\n",
    "\n",
    "def findSeeds1(T):\n",
    "    keys = T.keys().distinct().map(lambda x:(x,1))\n",
    "    values = T.values().distinct().map(lambda x:(x,1))\n",
    "    return keys.subtractByKey(values).keys()\n",
    "\n",
    "def findSeeds2(T):\n",
    "    T_inv = T.map(lambda x:(x[1], x[0]))\n",
    "    A = T.keys().distinct().map(lambda x:(x,1))        #Each distinct is a reduceByKey\n",
    "    B = T_inv.keys().distinct().map(lambda x:(x,1))\n",
    "    return A.leftOuterJoin(B).filter(lambda x: not x[1][1]).keys()\n"
   ]
  },
  {
   "cell_type": "code",
   "execution_count": 80,
   "metadata": {},
   "outputs": [],
   "source": [
    "def Cracker(G):\n",
    "    n = 0\n",
    "    T = sc.parallelize([])\n",
    "    while G.take(1):\n",
    "        n += 1\n",
    "        H = Min_Selection_Step(G)\n",
    "        G, T = Pruning_Step(H, T)\n",
    "    \n",
    "    return findSeeds2(T)"
   ]
  },
  {
   "cell_type": "code",
   "execution_count": 81,
   "metadata": {},
   "outputs": [
    {
     "name": "stdout",
     "output_type": "stream",
     "text": [
      "CPU times: user 176 ms, sys: 26.7 ms, total: 202 ms\n",
      "Wall time: 1.34 s\n"
     ]
    },
    {
     "data": {
      "text/plain": [
       "[0, 10]"
      ]
     },
     "execution_count": 81,
     "metadata": {},
     "output_type": "execute_result"
    }
   ],
   "source": [
    "%%time \n",
    "#Cracker with findSeeds\n",
    "Cracker(G).collect()"
   ]
  },
  {
   "cell_type": "markdown",
   "metadata": {},
   "source": [
    "# Tracking activeness and seeds"
   ]
  },
  {
   "cell_type": "code",
   "execution_count": 86,
   "metadata": {},
   "outputs": [],
   "source": [
    "btc_raw = sc.parallelize([(0,1), (1,2), (2,5), (5,8), (7,8), (3,7), (3,4), (3,6), (10,11), (10,12), (12,13)])\n",
    "G2 = btc_raw.flatMap(lambda x: [x, (x[1], x[0])]).groupByKey().mapValues(lambda x: (set(x), True))"
   ]
  },
  {
   "cell_type": "code",
   "execution_count": 87,
   "metadata": {},
   "outputs": [],
   "source": [
    "def Min_Selection_Step(G): #dictionary format RDD\n",
    "    v_min = G.map(lambda x: (x[0], min(x[1][0] | {x[0]})))\n",
    "    NN_G_u = G.map(lambda x: (x[0], (x[1][0] | {x[0]}, x[1][1])))\n",
    "    \n",
    "    #Broadcasting\n",
    "    v_min_bc = sc.broadcast(dict(v_min.collect()))\n",
    "    addEdge = NN_G_u.map(lambda x: (x[0], (x[1][0], v_min_bc.value[x[0]], x[1][1])))\n",
    "    addEdge1 = addEdge.flatMap(lambda x: [(y, (x[1][1], x[1][2])) for y in x[1][0]])\n",
    "    \n",
    "    temp = addEdge1.groupByKey().map(lambda x: (x[0], (list(x[1]))))\n",
    "    H = temp.map(lambda x: (x[0], list(zip(*x[1])))).mapValues(lambda x: (set(x[0]), all(x[1])))\n",
    "    return H\n",
    "\n",
    "def Pruning_Step(H, T, Seeds):\n",
    "    \n",
    "    #minimum node of the neighborhood: shared for following parts\n",
    "    v_min = H.map(lambda x: (x[0], min(x[1][0])))\n",
    "    v_min_bc = sc.broadcast(dict(v_min.collect())) #Broadcasting v_min\n",
    "\n",
    "    #---------------G construction-------------------\n",
    "    H_filtered = H.filter(lambda x: len(x[1][0]) > 1)\n",
    "    NN_H_u = H_filtered.mapValues(lambda x: (x[0] - {min(x[0])}, x[1] ))\n",
    "    #With Broadcasting\n",
    "    addEdge2=NN_H_u.map(lambda x:(x[0],(x[1][0],v_min_bc.value[x[0]], x[1][1]))).flatMap(lambda x:[(x[1][1],(y, x[1][2])) for y in x[1][0]])\n",
    "\n",
    "    temp = addEdge2.flatMap(lambda x: [x, (x[1][0], (x[0],x[1][1]))]).groupByKey().mapValues(lambda x: list(x))\n",
    "    G = temp.mapValues(lambda x: list(zip(*x))).mapValues(lambda x: (set(x[0]), all(x[1])))\n",
    "    \n",
    "    #---------------Tree construction--------------\n",
    "    #The deactivated Nodes do not appear in G_{t+1}\n",
    "    deactiveNodes = H.filter(lambda x: x[0] not in x[1][0]).mapValues(lambda x: False)\n",
    "    #With Broadcasting\n",
    "    addEdge3 = deactiveNodes.map(lambda x: (x[0], (x[1], v_min_bc.value[x[0]]))).map(lambda x: (x[1][1], x[0]))\n",
    "    T = T.union(addEdge3)\n",
    "    \n",
    "    #--------------Find Seed-----------------\n",
    "    #Elements in H with neighborhood from G_{t+1}\n",
    "    NN_G_H = H.cogroup(G).mapValues(lambda x: arr( (list(x[0]), list(x[1])) ) ) \n",
    "    \n",
    "    #---->Not sure if it is necessary to use True/False\n",
    "    #deactivated = NN_G_H.cogroup(deactiveNodes).map(lambda x: (x[0], arr2( (list(x[1][0]), list(x[1][1])) ) ) )\n",
    "    #seed = deactivated.filter(lambda x: (len(x[1][0]) <= 1) & (x[0] in x[1][0]) & x[1][1])\n",
    "    \n",
    "    seed = NN_G_H.filter(lambda x: (len(x[1][0]) <= 1) & (x[0] in x[1][0]))\n",
    "    Seeds = Seeds.union(seed)\n",
    "    return [G, T, Seeds]\n",
    "\n",
    "def arr(value):\n",
    "    if not value[1]:\n",
    "        return value[0][0]\n",
    "    else:\n",
    "        temp = list(zip(*[value[0][0], value[1][0]]))\n",
    "        return temp[0][0].union(temp[0][1]), all(temp[1])\n",
    "\n",
    "def arr2(value):\n",
    "    if not value[1]:\n",
    "        return value[0][0]\n",
    "    else:\n",
    "        return (value[0][0][0], False)\n"
   ]
  },
  {
   "cell_type": "code",
   "execution_count": 88,
   "metadata": {},
   "outputs": [],
   "source": [
    "def Cracker(G):\n",
    "    n = 0\n",
    "    T = sc.parallelize([])\n",
    "    Seeds = sc.parallelize([])\n",
    "    while G.take(1):\n",
    "        n += 1\n",
    "        H = Min_Selection_Step(G)\n",
    "        G, T, Seeds = Pruning_Step(H, T, Seeds)\n",
    "    \n",
    "    return Seeds.keys()"
   ]
  },
  {
   "cell_type": "code",
   "execution_count": 89,
   "metadata": {},
   "outputs": [
    {
     "name": "stdout",
     "output_type": "stream",
     "text": [
      "CPU times: user 207 ms, sys: 25.4 ms, total: 232 ms\n",
      "Wall time: 1.12 s\n"
     ]
    },
    {
     "data": {
      "text/plain": [
       "[10, 0]"
      ]
     },
     "execution_count": 89,
     "metadata": {},
     "output_type": "execute_result"
    }
   ],
   "source": [
    "%%time\n",
    "Cracker(G2).collect()"
   ]
  },
  {
   "cell_type": "markdown",
   "metadata": {},
   "source": [
    "# Tracking seeds without activeness"
   ]
  },
  {
   "cell_type": "code",
   "execution_count": 90,
   "metadata": {},
   "outputs": [],
   "source": [
    "btc_raw = sc.parallelize([(0,1), (1,2), (2,5), (5,8), (7,8), (3,7), (3,4), (3,6), (10,11), (10,12), (12,13)])\n",
    "G = btc_raw.flatMap(lambda x: [x, (x[1], x[0])]).groupByKey().mapValues(lambda x: set(x))"
   ]
  },
  {
   "cell_type": "code",
   "execution_count": 91,
   "metadata": {},
   "outputs": [],
   "source": [
    "def Min_Selection_Step(G): #dictionary format RDD\n",
    "    v_min = G.map(lambda x: (x[0], min(x[1] | {x[0]})))\n",
    "    NN_G_u = G.map(lambda x: (x[0], x[1] | {x[0]}))\n",
    "    #Broadcasting\n",
    "    v_min_bc = sc.broadcast(dict(v_min.collect()))\n",
    "    addEdge = NN_G_u.map(lambda x: (x[0], (x[1], v_min_bc.value[x[0]])) )\n",
    "    addEdge1 = addEdge.flatMap(lambda x: [(y, x[1][1]) for y in x[1][0]])\n",
    "    #Without broadcasting\n",
    "    #addEdge = NN_G_u.join(v_min).flatMap(lambda x: [(y, x[1][1]) for y in x[1][0]])\n",
    "\n",
    "    H = addEdge1.groupByKey().mapValues(lambda x: set(x))\n",
    "    return H\n",
    "\n",
    "def Pruning_Step(H, T, Seeds):\n",
    "    #minimum node of the neighborhood: shared for following parts\n",
    "    v_min = H.mapValues(lambda x: min(x))\n",
    "    v_min_bc = sc.broadcast(dict(v_min.collect())) #Broadcasting v_min\n",
    "    \n",
    "    #---------------G construction-------------------\n",
    "    H_filtered = H.filter(lambda x: len(x[1]) > 1)\n",
    "    NN_H_u = H_filtered.mapValues(lambda x: x - {min(x)} )\n",
    "    #With Broadcasting\n",
    "    addEdge2=NN_H_u.map(lambda x:(x[0],(x[1],v_min_bc.value[x[0]]))).flatMap(lambda x:[(x[1][1],y) for y in x[1][0]])\n",
    "    #Without broadcasting\n",
    "    #addEdge2 = NN_H_u.join(v_min).flatMap(lambda x: [(x[1][1], y) for y in x[1][0]])\n",
    "    G = addEdge2.flatMap(lambda x: [x, (x[1], x[0])]).groupByKey().mapValues(lambda x: set(x))\n",
    "    \n",
    "    #---------------Tree construction--------------\n",
    "    #The deactivated Nodes do not appear in G_{t+1}\n",
    "    deactiveNodes = H.filter(lambda x: x[0] not in x[1]).mapValues(lambda x: False)\n",
    "    #Without broadcasting\n",
    "    #addEdge3 = deactiveNodes.join(v_min).map(lambda x: (x[1][1], x[0]))\n",
    "    #With Broadcasting\n",
    "    addEdge3 = deactiveNodes.map(lambda x: (x[0], (x[1], v_min_bc.value[x[0]]))).map(lambda x: (x[1][1], x[0]))\n",
    "    T = T.union(addEdge3)\n",
    "\n",
    "    #--------------Find Seed-----------------\n",
    "    #Elements in H with neighborhood from G_{t+1}\n",
    "    NN_G_H = H.cogroup(G).mapValues(lambda x: (list(x[0]), list(x[1])) ).mapValues(lambda x: set_join(x) )\n",
    "\n",
    "    #Not sure is necessary to use True/False\n",
    "    #deactivated = NN_G_H.cogroup(deactiveNodes).map(lambda x: (x[0], (list(x[1][0]), list(x[1][1])) ))\n",
    "    #seed = deactivated.filter(lambda x: (len(x[1][0]) <= 1) & (x[0] in x[1][0]) & x[1][1]) \n",
    "    \n",
    "    seed = NN_G_H.filter(lambda x: (len(x[1]) <= 1) & (x[0] in x[1]))\n",
    "    Seeds = Seeds.union(seed)\n",
    "\n",
    "    return [G, T, Seeds]\n",
    "\n",
    "\n",
    "def set_join(value):\n",
    "    if not value[1]:\n",
    "        return value[0][0]\n",
    "    else:\n",
    "        return value[0][0] | value[1][0]\n"
   ]
  },
  {
   "cell_type": "code",
   "execution_count": 92,
   "metadata": {},
   "outputs": [],
   "source": [
    "def Cracker(G):\n",
    "    n = 0\n",
    "    T = sc.parallelize([])\n",
    "    Seeds = sc.parallelize([])\n",
    "    while G.take(1):\n",
    "        n += 1\n",
    "        H = Min_Selection_Step(G)\n",
    "        G, T, Seeds = Pruning_Step(H, T, Seeds)\n",
    "    \n",
    "    return Seeds.keys()"
   ]
  },
  {
   "cell_type": "code",
   "execution_count": 93,
   "metadata": {},
   "outputs": [
    {
     "name": "stdout",
     "output_type": "stream",
     "text": [
      "CPU times: user 156 ms, sys: 22.9 ms, total: 179 ms\n",
      "Wall time: 824 ms\n"
     ]
    },
    {
     "data": {
      "text/plain": [
       "[10, 0]"
      ]
     },
     "execution_count": 93,
     "metadata": {},
     "output_type": "execute_result"
    }
   ],
   "source": [
    "%%time\n",
    "Cracker(G).collect()"
   ]
  },
  {
   "cell_type": "code",
   "execution_count": null,
   "metadata": {},
   "outputs": [],
   "source": []
  },
  {
   "cell_type": "code",
   "execution_count": null,
   "metadata": {},
   "outputs": [],
   "source": []
  }
 ],
 "metadata": {
  "kernelspec": {
   "display_name": "Python 3",
   "language": "python",
   "name": "python3"
  },
  "language_info": {
   "codemirror_mode": {
    "name": "ipython",
    "version": 3
   },
   "file_extension": ".py",
   "mimetype": "text/x-python",
   "name": "python",
   "nbconvert_exporter": "python",
   "pygments_lexer": "ipython3",
   "version": "3.7.2"
  }
 },
 "nbformat": 4,
 "nbformat_minor": 2
}
