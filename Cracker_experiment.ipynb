{
 "cells": [
  {
   "cell_type": "code",
   "execution_count": 1,
   "metadata": {},
   "outputs": [],
   "source": [
    "from pyspark import SparkContext, SparkConf\n",
    "conf = SparkConf().setAppName(\"pyspark\")\n",
    "sc = SparkContext(conf=conf)"
   ]
  },
  {
   "cell_type": "code",
   "execution_count": 2,
   "metadata": {},
   "outputs": [],
   "source": [
    "btc_raw = sc.textFile(\"graph_datasets/soc-sign-bitcoinalpha.csv\")\n",
    "btc_raw.take(10)\n",
    "G = btc_raw.map(lambda x: x.split(\",\")).map(lambda x: (int(x[0]), int(x[1]))).flatMap(lambda x: [x, (x[1], x[0])]).groupByKey().mapValues(lambda x: set(x))"
   ]
  },
  {
   "cell_type": "markdown",
   "metadata": {},
   "source": [
    "# Algorithm\n",
    "\n",
    "Things to do\n",
    "1. SQL version\n",
    "2. Maybe improve seed_propragation"
   ]
  },
  {
   "cell_type": "markdown",
   "metadata": {},
   "source": [
    "# Experiement\n",
    "\n",
    "Variables: Size of the file, Numbers of the clusters\n",
    "\n",
    "Output metrices: average of CPU times and average of Wll times\n",
    "\n",
    "\n",
    "## 1. Self Comparison\n",
    "\n",
    "2 versions of Min_Selection_Step & Pruning_Step. [Input Graph, Output raw Tree] (parent, child)\n",
    "\n",
    "3 versions of findSeeds step [Input raw Tree, Output Seeds] (Seeds)\n",
    "\n",
    "1 version of Seed_Propration step [Input raw Tree and Seeds, Output complete Tree] : (vertex, {seed, child})\n",
    "\n",
    "## 2. Competition \n",
    "\n",
    "Google's version\n",
    "\n",
    "Pyspark's version\n",
    "\n",
    "Paper's version\n",
    "\n",
    "Our pyspark version\n",
    "\n",
    "Our SQL version"
   ]
  },
  {
   "cell_type": "markdown",
   "metadata": {},
   "source": [
    "# Summary\n",
    "\n",
    "\n",
    "1.Min_Selection_Step & Pruning_Step\n",
    "\n",
    "| Architecture  |CPU times| Wall times |\n",
    "|:------------- |--------:|:----------:|\n",
    "| Prototyoe     | 428 ms  | 7.79 s     | \n",
    "| Brocasting    | 224 ms  | 1.29 s     | \n",
    "\n",
    "2.findSeeds step\n",
    "\n",
    "| Architecture  |CPU times| Wall times |\n",
    "|:------------- |--------:|:----------:|\n",
    "| findSeeds1    | 293 ms  | 2.15 s     | \n",
    "| findSeeds2    | 378 ms  | 1.82 s     | \n",
    "| findSeeds3    | 383 ms  | 1.89 s     | \n",
    "\n",
    "3.Seed_Propration step\n",
    "\n",
    "| Architecture  |CPU times| Wall times |\n",
    "|:------------- |--------:|:----------:|\n",
    "| Prototyoe     | 157 ms  | 3.29 s     | \n"
   ]
  },
  {
   "cell_type": "markdown",
   "metadata": {},
   "source": [
    "## Broadcasting vs Prototype: the slowest version in the world"
   ]
  },
  {
   "cell_type": "code",
   "execution_count": 25,
   "metadata": {},
   "outputs": [],
   "source": [
    "#Version with broadcasting in the addEdge step on both Min_Selection_Step and Pruning_Step\n",
    "\n",
    "def Min_Selection_Step(G): #dictionary format RDD\n",
    "    v_min = G.map(lambda x: (x[0], min(x[1] | {x[0]})))\n",
    "    NN_G_u = G.map(lambda x: (x[0], (x[1] | {x[0]})))\n",
    "    \n",
    "    #Broadcasting\n",
    "    v_min_bc = sc.broadcast(dict(v_min.collect()))\n",
    "    addEdge = NN_G_u.map(lambda x: (x[0], (x[1], v_min_bc.value[x[0]]))).flatMap(lambda x: [(y, x[1][1]) for y in x[1][0]])\n",
    "    #Without broadcasting\n",
    "    #addEdge = NN_G_u.join(v_min).flatMap(lambda x: [(y, x[1][1]) for y in x[1][0]])\n",
    "    H = addEdge.groupByKey().map(lambda x: (x[0], set(x[1])))#.filter(lambda x: len(x[1]) > 1)\n",
    "    return H\n",
    "\n",
    "def Pruning_Step(H):\n",
    "    H_filtered = H.filter(lambda x: len(x[1]) > 1)\n",
    "    v_min = H_filtered.map(lambda x: (x[0], min(x[1])))\n",
    "    NN_H_u = H_filtered.map(lambda x: (x[0], x[1] - {min(x[1])} ))\n",
    "    \n",
    "    #Broadcasting\n",
    "    v_min_bc = sc.broadcast(dict(v_min.collect()))\n",
    "    addEdge2 = NN_H_u.map(lambda x: (x[0], (x[1], v_min_bc.value[x[0]]))).flatMap(lambda x: [(x[1][1], y) for y in x[1][0]])\n",
    "    #Without broadcasting\n",
    "    #addEdge2 = NN_H_u.join(v_min).flatMap(lambda x: [(x[1][1], y) for y in x[1][0]])\n",
    "    G = addEdge2.flatMap(lambda x: [x, (x[1], x[0])]).groupByKey().map(lambda x: (x[0], set(x[1])))\n",
    "    return G \n",
    "\n",
    "def cracker(G_i):\n",
    "    count = 0\n",
    "    while G_i.take(1):\n",
    "        count += 1\n",
    "        H_i = Min_Selection_Step(G_i)\n",
    "        G_i = Pruning_Step(H_i)\n",
    "        \n",
    "    return count\n"
   ]
  },
  {
   "cell_type": "code",
   "execution_count": 26,
   "metadata": {},
   "outputs": [],
   "source": [
    "#Version without broadcasting in the addEdge step on both Min_Selection_Step and Pruning_Step\n",
    "\n",
    "def Min_Selection_Step2(G): #dictionary format RDD\n",
    "    v_min = G.map(lambda x: (x[0], min(x[1] | {x[0]})))\n",
    "    NN_G_u = G.map(lambda x: (x[0], (x[1] | {x[0]})))\n",
    "    addEdge = v_min.join(NN_G_u)\n",
    "    H = addEdge.flatMap(lambda x: [(y, x[1][0]) for y in x[1][1]]).groupByKey().map(lambda x: (x[0], set(x[1])))\n",
    "    return H\n",
    "\n",
    "def Pruning_Step2(H):\n",
    "    H_filtered = H.filter(lambda x: len(x[1]) > 1)\n",
    "    v_min = H_filtered.map(lambda x: (x[0], min(x[1])))\n",
    "    NN_H_u = H_filtered.map(lambda x: (x[0], x[1] - {min(x[1])} ))\n",
    "    addEdge2 = v_min.join(NN_H_u).flatMap(lambda x: [(x[1][0], y) for y in x[1][1]])\n",
    "    G = addEdge2.flatMap(lambda x: [x, (x[1], x[0])]).groupByKey().map(lambda x: (x[0], set(x[1])))\n",
    "    return G \n",
    "\n",
    "def cracker2(G_i):\n",
    "    count = 0\n",
    "    while G_i.take(1):\n",
    "        count += 1\n",
    "        H_i = Min_Selection_Step2(G_i)\n",
    "        G_i = Pruning_Step2(H_i)\n",
    "        \n",
    "    return count\n"
   ]
  },
  {
   "cell_type": "code",
   "execution_count": 27,
   "metadata": {},
   "outputs": [
    {
     "name": "stdout",
     "output_type": "stream",
     "text": [
      "CPU times: user 189 ms, sys: 35.3 ms, total: 224 ms\n",
      "Wall time: 1.29 s\n"
     ]
    },
    {
     "data": {
      "text/plain": [
       "3"
      ]
     },
     "execution_count": 27,
     "metadata": {},
     "output_type": "execute_result"
    }
   ],
   "source": [
    "%%time\n",
    "cracker(G)"
   ]
  },
  {
   "cell_type": "code",
   "execution_count": 28,
   "metadata": {},
   "outputs": [
    {
     "name": "stdout",
     "output_type": "stream",
     "text": [
      "CPU times: user 365 ms, sys: 62.7 ms, total: 428 ms\n",
      "Wall time: 7.79 s\n"
     ]
    },
    {
     "data": {
      "text/plain": [
       "3"
      ]
     },
     "execution_count": 28,
     "metadata": {},
     "output_type": "execute_result"
    }
   ],
   "source": [
    "%%time\n",
    "cracker2(G)"
   ]
  },
  {
   "cell_type": "code",
   "execution_count": 3,
   "metadata": {},
   "outputs": [],
   "source": [
    "def Min_Selection_Step(G): #dictionary format RDD\n",
    "    v_min = G.map(lambda x: (x[0], min(x[1] | {x[0]})))\n",
    "    NN_G_u = G.map(lambda x: (x[0], (x[1] | {x[0]})))\n",
    "    addEdge1 = v_min.cogroup(NN_G_u).map(lambda x :(x[0], ( list(x[1][0]), list(x[1][1])))) #if it is possible to reduce to one MapReduce job\n",
    "    H = addEdge1.flatMap(lambda x: [(x[1][0][0], y) for y in x[1][1][0]]).map(lambda x: (x[1], x[0])).groupByKey().map(lambda x: (x[0], set(x[1])))#.filter(lambda x: len(x[1]) > 1)\n",
    "    return H\n",
    "\n",
    "def Pruning_Step(H, T):\n",
    "    H_filtered = H.filter(lambda x: len(x[1]) > 1)\n",
    "    v_min_filtered = H_filtered.map(lambda x: (x[0], min(x[1])))\n",
    "    NN_H_u = H_filtered.map(lambda x: (x[0], x[1] - {min(x[1])} ))\n",
    "    addEdge2 = v_min_filtered.cogroup(NN_H_u).map(lambda x :(x[0], ( list(x[1][0]), list(x[1][1]))))\n",
    "    G = addEdge2.flatMap(lambda x: [(x[1][0][0], y) for y in x[1][1][0]]).flatMap(lambda x: [x, (x[1], x[0])]).groupByKey().map(lambda x: (x[0], set(x[1])))\n",
    "    \n",
    "    \n",
    "    #deactiviation\n",
    "    deactiveNodes = H.filter(lambda x: x[0] not in x[1]).map(lambda x: (x[0], None))\n",
    "    v_min = H.map(lambda x: (x[0], min(x[1])))\n",
    "    addEdge3 = deactiveNodes.join(v_min).map(lambda x: (x[1][1], x[0]))\n",
    "    T = T.union(addEdge3)\n",
    "\n",
    "    \n",
    "    return [G, T]\n",
    "\n",
    "def findSeeds(T):\n",
    "    T_rev = T.map(lambda x:(x[1], x[0]))\n",
    "    A = T.keys().distinct().map(lambda x:(x,1))\n",
    "    B = T_rev.keys().distinct().map(lambda x:(x,1))\n",
    "    return A.leftOuterJoin(B).filter(lambda x: not x[1][1]).map(lambda x:x[0])\n",
    "\n",
    "def Cracker(G):\n",
    "    n = 0\n",
    "    T = sc.parallelize([])\n",
    "    while G.take(1):\n",
    "        n += 1\n",
    "        print(n)\n",
    "        H = Min_Selection_Step(G)\n",
    "        G, T = Pruning_Step(H, T)\n",
    "    \n",
    "    return [T, findSeeds(T)]"
   ]
  },
  {
   "cell_type": "code",
   "execution_count": 4,
   "metadata": {},
   "outputs": [
    {
     "name": "stdout",
     "output_type": "stream",
     "text": [
      "1\n",
      "2\n",
      "3\n",
      "CPU times: user 710 ms, sys: 138 ms, total: 848 ms\n",
      "Wall time: 26.9 s\n"
     ]
    }
   ],
   "source": [
    "%%time \n",
    "#Cracker with findSeeds\n",
    "T, Seeds = Cracker(G)\n",
    "Seeds.collect()"
   ]
  },
  {
   "cell_type": "code",
   "execution_count": 5,
   "metadata": {},
   "outputs": [
    {
     "data": {
      "text/plain": [
       "[1, 1389, 3228, 1870, 5837]"
      ]
     },
     "execution_count": 5,
     "metadata": {},
     "output_type": "execute_result"
    }
   ],
   "source": [
    "Seeds.collect()"
   ]
  },
  {
   "cell_type": "markdown",
   "metadata": {},
   "source": [
    "# Finding seeds from tree (3 different findSeed functions)"
   ]
  },
  {
   "cell_type": "code",
   "execution_count": 6,
   "metadata": {},
   "outputs": [],
   "source": [
    "#btc_raw = sc.parallelize([(0,1), (1,2), (2,5), (5,8), (7,8), (3,7), (3,4), (3,6), (10,11), (10,12), (12,13)])\n",
    "#G = btc_raw.flatMap(lambda x: [x, (x[1], x[0])]).groupByKey().mapValues(lambda x: set(x))"
   ]
  },
  {
   "cell_type": "code",
   "execution_count": 7,
   "metadata": {},
   "outputs": [],
   "source": [
    "def Min_Selection_Step(G): #dictionary format RDD\n",
    "    v_min = G.map(lambda x: (x[0], min(x[1] | {x[0]})))\n",
    "    NN_G_u = G.map(lambda x: (x[0], (x[1] | {x[0]})))\n",
    "    \n",
    "    #Broadcasting\n",
    "    v_min_bc = sc.broadcast(dict(v_min.collect()))\n",
    "    addEdge = NN_G_u.map(lambda x: (x[0], (x[1], v_min_bc.value[x[0]]))).flatMap(lambda x: [(y, x[1][1]) for y in x[1][0]])\n",
    "    #Without broadcasting\n",
    "    #addEdge = NN_G_u.join(v_min).flatMap(lambda x: [(y, x[1][1]) for y in x[1][0]])\n",
    "    #H = addEdge.groupByKey().map(lambda x: (x[0], set(x[1])))\n",
    "    H = addEdge.groupByKey().mapValues(lambda x: set(x))\n",
    "    return H\n",
    "\n",
    "def Pruning_Step(H, T):\n",
    "    \n",
    "    #minimum node of the neighborhood: shared for following parts\n",
    "    v_min = H.map(lambda x: (x[0], min(x[1])))\n",
    "    v_min_bc = sc.broadcast(dict(v_min.collect())) #Broadcasting v_min\n",
    "    \n",
    "    #---------------G construction-------------------\n",
    "    H_filtered = H.filter(lambda x: len(x[1]) > 1)\n",
    "    #NN_H_u = H_filtered.map(lambda x: (x[0], x[1] - {min(x[1])} ))\n",
    "    NN_H_u = H_filtered.mapValues(lambda x: x - {min(x)} )\n",
    "    #With Broadcasting\n",
    "    addEdge2=NN_H_u.map(lambda x:(x[0],(x[1],v_min_bc.value[x[0]]))).flatMap(lambda x:[(x[1][1],y) for y in x[1][0]])\n",
    "    #Without broadcasting\n",
    "    #addEdge2 = NN_H_u.join(v_min).flatMap(lambda x: [(x[1][1], y) for y in x[1][0]])\n",
    "    G = addEdge2.flatMap(lambda x: [x, (x[1], x[0])]).groupByKey().mapValues(lambda x: set(x))\n",
    "    \n",
    "    #---------------Tree construction--------------\n",
    "    deactiveNodes = H.filter(lambda x: x[0] not in x[1]).mapValues(lambda x: None)\n",
    "    #Without broadcasting\n",
    "    #addEdge3 = deactiveNodes.join(v_min).map(lambda x: (x[1][1], x[0]))\n",
    "    #With Broadcasting\n",
    "    addEdge3 = deactiveNodes.map(lambda x: (x[0], (x[1], v_min_bc.value[x[0]]))).map(lambda x: (x[1][1], x[0]))\n",
    "    T = T.union(addEdge3)\n",
    "\n",
    "    return [G, T]\n",
    "\n",
    "#Finding seeds\n",
    "def findSeeds(T): \n",
    "    keys = T\n",
    "    values = T.map(lambda x:(x[1], x[0]))\n",
    "    return keys.subtractByKey(values).keys().distinct()\n",
    "\n",
    "def findSeeds1(T):\n",
    "    keys = T.keys().distinct().map(lambda x:(x,1))\n",
    "    values = T.values().distinct().map(lambda x:(x,1))\n",
    "    return keys.subtractByKey(values).keys()\n",
    "\n",
    "def findSeeds2(T):\n",
    "    T_inv = T.map(lambda x:(x[1], x[0]))\n",
    "    A = T.keys().distinct().map(lambda x:(x,1))        #Each distinct is a reduceByKey\n",
    "    B = T_inv.keys().distinct().map(lambda x:(x,1))\n",
    "    return A.leftOuterJoin(B).filter(lambda x: not x[1][1]).keys()\n"
   ]
  },
  {
   "cell_type": "code",
   "execution_count": 8,
   "metadata": {},
   "outputs": [],
   "source": [
    "def Cracker(G):\n",
    "    n = 0\n",
    "    T = sc.parallelize([])\n",
    "    while G.take(1):\n",
    "        n += 1\n",
    "        H = Min_Selection_Step(G)\n",
    "        G, T = Pruning_Step(H, T)\n",
    "    \n",
    "    return [T, findSeeds2(T)]"
   ]
  },
  {
   "cell_type": "code",
   "execution_count": 9,
   "metadata": {},
   "outputs": [
    {
     "name": "stdout",
     "output_type": "stream",
     "text": [
      "CPU times: user 254 ms, sys: 38.8 ms, total: 293 ms\n",
      "Wall time: 2.15 s\n"
     ]
    }
   ],
   "source": [
    "%%time \n",
    "#Cracker with findSeeds\n",
    "T, Seeds = Cracker(G)\n",
    "Seeds.collect()"
   ]
  },
  {
   "cell_type": "code",
   "execution_count": 10,
   "metadata": {},
   "outputs": [
    {
     "data": {
      "text/plain": [
       "[1, 3228, 1389, 1870, 5837]"
      ]
     },
     "execution_count": 10,
     "metadata": {},
     "output_type": "execute_result"
    }
   ],
   "source": [
    "Seeds.collect()"
   ]
  },
  {
   "cell_type": "markdown",
   "metadata": {},
   "source": [
    "# Tracking activeness and seeds"
   ]
  },
  {
   "cell_type": "code",
   "execution_count": 11,
   "metadata": {},
   "outputs": [],
   "source": [
    "#btc_raw = sc.parallelize([(0,1), (1,2), (2,5), (5,8), (7,8), (3,7), (3,4), (3,6), (10,11), (10,12), (12,13)])\n",
    "#G2 = btc_raw.flatMap(lambda x: [x, (x[1], x[0])]).groupByKey().mapValues(lambda x: (set(x), True))\n",
    "\n",
    "#for big sets\n",
    "G2 = btc_raw.map(lambda x: x.split(\",\")).map(lambda x: (int(x[0]), int(x[1]))).flatMap(lambda x: [x, (x[1], x[0])]).groupByKey().mapValues(lambda x: (set(x), True))"
   ]
  },
  {
   "cell_type": "code",
   "execution_count": 12,
   "metadata": {},
   "outputs": [],
   "source": [
    "def Min_Selection_Step(G): #dictionary format RDD\n",
    "    v_min = G.map(lambda x: (x[0], min(x[1][0] | {x[0]})))\n",
    "    NN_G_u = G.map(lambda x: (x[0], (x[1][0] | {x[0]}, x[1][1])))\n",
    "    \n",
    "    #Broadcasting\n",
    "    v_min_bc = sc.broadcast(dict(v_min.collect()))\n",
    "    addEdge = NN_G_u.map(lambda x: (x[0], (x[1][0], v_min_bc.value[x[0]], x[1][1])))\n",
    "    addEdge1 = addEdge.flatMap(lambda x: [(y, (x[1][1], x[1][2])) for y in x[1][0]])\n",
    "    \n",
    "    temp = addEdge1.groupByKey().map(lambda x: (x[0], (list(x[1]))))\n",
    "    H = temp.map(lambda x: (x[0], list(zip(*x[1])))).mapValues(lambda x: (set(x[0]), all(x[1])))\n",
    "    return H\n",
    "\n",
    "def Pruning_Step(H, T, Seeds):\n",
    "    \n",
    "    #minimum node of the neighborhood: shared for following parts\n",
    "    v_min = H.map(lambda x: (x[0], min(x[1][0])))\n",
    "    v_min_bc = sc.broadcast(dict(v_min.collect())) #Broadcasting v_min\n",
    "\n",
    "    #---------------G construction-------------------\n",
    "    H_filtered = H.filter(lambda x: len(x[1][0]) > 1)\n",
    "    NN_H_u = H_filtered.mapValues(lambda x: (x[0] - {min(x[0])}, x[1] ))\n",
    "    #With Broadcasting\n",
    "    addEdge2=NN_H_u.map(lambda x:(x[0],(x[1][0],v_min_bc.value[x[0]], x[1][1]))).flatMap(lambda x:[(x[1][1],(y, x[1][2])) for y in x[1][0]])\n",
    "\n",
    "    temp = addEdge2.flatMap(lambda x: [x, (x[1][0], (x[0],x[1][1]))]).groupByKey().mapValues(lambda x: list(x))\n",
    "    G = temp.mapValues(lambda x: list(zip(*x))).mapValues(lambda x: (set(x[0]), all(x[1])))\n",
    "    \n",
    "    #---------------Tree construction--------------\n",
    "    #The deactivated Nodes do not appear in G_{t+1}\n",
    "    deactiveNodes = H.filter(lambda x: x[0] not in x[1][0]).mapValues(lambda x: False)\n",
    "    #With Broadcasting\n",
    "    addEdge3 = deactiveNodes.map(lambda x: (x[0], (x[1], v_min_bc.value[x[0]]))).map(lambda x: (x[1][1], x[0]))\n",
    "    T = T.union(addEdge3)\n",
    "    \n",
    "    #--------------Find Seed-----------------\n",
    "    #Elements in H with neighborhood from G_{t+1}\n",
    "    NN_G_H = H.cogroup(G).mapValues(lambda x: arr( (list(x[0]), list(x[1])) ) ) \n",
    "    \n",
    "    #---->Not sure if it is necessary to use True/False\n",
    "    #deactivated = NN_G_H.cogroup(deactiveNodes).map(lambda x: (x[0], arr2( (list(x[1][0]), list(x[1][1])) ) ) )\n",
    "    #seed = deactivated.filter(lambda x: (len(x[1][0]) <= 1) & (x[0] in x[1][0]) & x[1][1])\n",
    "    \n",
    "    seed = NN_G_H.filter(lambda x: (len(x[1][0]) <= 1) & (x[0] in x[1][0]))\n",
    "    Seeds = Seeds.union(seed)\n",
    "    return [G, T, Seeds]\n",
    "\n",
    "def arr(value):\n",
    "    if not value[1]:\n",
    "        return value[0][0]\n",
    "    else:\n",
    "        temp = list(zip(*[value[0][0], value[1][0]]))\n",
    "        return temp[0][0].union(temp[0][1]), all(temp[1])\n",
    "\n",
    "def arr2(value):\n",
    "    if not value[1]:\n",
    "        return value[0][0]\n",
    "    else:\n",
    "        return (value[0][0][0], False)\n"
   ]
  },
  {
   "cell_type": "code",
   "execution_count": 13,
   "metadata": {},
   "outputs": [],
   "source": [
    "def Cracker(G):\n",
    "    n = 0\n",
    "    T = sc.parallelize([])\n",
    "    Seeds = sc.parallelize([])\n",
    "    while G.take(1):\n",
    "        n += 1\n",
    "        H = Min_Selection_Step(G)\n",
    "        G, T, Seeds = Pruning_Step(H, T, Seeds)\n",
    "    \n",
    "    return [T, Seeds.keys()]"
   ]
  },
  {
   "cell_type": "code",
   "execution_count": 14,
   "metadata": {},
   "outputs": [
    {
     "name": "stdout",
     "output_type": "stream",
     "text": [
      "CPU times: user 335 ms, sys: 43.2 ms, total: 378 ms\n",
      "Wall time: 1.82 s\n"
     ]
    }
   ],
   "source": [
    "%%time\n",
    "T, Seeds = Cracker(G2)\n",
    "Seeds.collect()"
   ]
  },
  {
   "cell_type": "code",
   "execution_count": 15,
   "metadata": {},
   "outputs": [
    {
     "data": {
      "text/plain": [
       "[3228, 1389, 5837, 1870, 1]"
      ]
     },
     "execution_count": 15,
     "metadata": {},
     "output_type": "execute_result"
    }
   ],
   "source": [
    "Seeds.collect()"
   ]
  },
  {
   "cell_type": "markdown",
   "metadata": {},
   "source": [
    "# Tracking seeds without activeness"
   ]
  },
  {
   "cell_type": "code",
   "execution_count": 16,
   "metadata": {},
   "outputs": [],
   "source": [
    "#btc_raw = sc.parallelize([(0,1), (1,2), (2,5), (5,8), (7,8), (3,7), (3,4), (3,6), (10,11), (10,12), (12,13)])\n",
    "G = btc_raw.map(lambda x: x.split(\",\")).map(lambda x: (int(x[0]), int(x[1]))).flatMap(lambda x: [x, (x[1], x[0])]).groupByKey().mapValues(lambda x: set(x))"
   ]
  },
  {
   "cell_type": "code",
   "execution_count": 17,
   "metadata": {},
   "outputs": [],
   "source": [
    "def Min_Selection_Step(G): #dictionary format RDD\n",
    "    v_min = G.map(lambda x: (x[0], min(x[1] | {x[0]})))\n",
    "    NN_G_u = G.map(lambda x: (x[0], x[1] | {x[0]}))\n",
    "    #Broadcasting\n",
    "    v_min_bc = sc.broadcast(dict(v_min.collect()))\n",
    "    addEdge = NN_G_u.map(lambda x: (x[0], (x[1], v_min_bc.value[x[0]])) )\n",
    "    addEdge1 = addEdge.flatMap(lambda x: [(y, x[1][1]) for y in x[1][0]])\n",
    "    #Without broadcasting\n",
    "    #addEdge = NN_G_u.join(v_min).flatMap(lambda x: [(y, x[1][1]) for y in x[1][0]])\n",
    "\n",
    "    H = addEdge1.groupByKey().mapValues(lambda x: set(x))\n",
    "    return H\n",
    "\n",
    "def Pruning_Step(H, T, Seeds):\n",
    "    #minimum node of the neighborhood: shared for following parts\n",
    "    v_min = H.mapValues(lambda x: min(x))\n",
    "    v_min_bc = sc.broadcast(dict(v_min.collect())) #Broadcasting v_min\n",
    "    \n",
    "    #---------------G construction-------------------\n",
    "    H_filtered = H.filter(lambda x: len(x[1]) > 1)\n",
    "    NN_H_u = H_filtered.mapValues(lambda x: x - {min(x)} )\n",
    "    #With Broadcasting\n",
    "    addEdge2=NN_H_u.map(lambda x:(x[0],(x[1],v_min_bc.value[x[0]]))).flatMap(lambda x:[(x[1][1],y) for y in x[1][0]])\n",
    "    #Without broadcasting\n",
    "    #addEdge2 = NN_H_u.join(v_min).flatMap(lambda x: [(x[1][1], y) for y in x[1][0]])\n",
    "    G = addEdge2.flatMap(lambda x: [x, (x[1], x[0])]).groupByKey().mapValues(lambda x: set(x))\n",
    "    \n",
    "    #---------------Tree construction--------------\n",
    "    #The deactivated Nodes do not appear in G_{t+1}\n",
    "    deactiveNodes = H.filter(lambda x: x[0] not in x[1]).mapValues(lambda x: False)\n",
    "    #Without broadcasting\n",
    "    #addEdge3 = deactiveNodes.join(v_min).map(lambda x: (x[1][1], x[0]))\n",
    "    #With Broadcasting\n",
    "    addEdge3 = deactiveNodes.map(lambda x: (x[0], (x[1], v_min_bc.value[x[0]]))).map(lambda x: (x[1][1], x[0]))\n",
    "    T = T.union(addEdge3)\n",
    "\n",
    "    #--------------Find Seed-----------------\n",
    "    #Elements in H with neighborhood from G_{t+1}\n",
    "    NN_G_H = H.cogroup(G).mapValues(lambda x: (list(x[0]), list(x[1])) ).mapValues(lambda x: set_join(x) )\n",
    "\n",
    "    #Not sure is necessary to use True/False\n",
    "    #deactivated = NN_G_H.cogroup(deactiveNodes).map(lambda x: (x[0], (list(x[1][0]), list(x[1][1])) ))\n",
    "    #seed = deactivated.filter(lambda x: (len(x[1][0]) <= 1) & (x[0] in x[1][0]) & x[1][1]) \n",
    "    \n",
    "    seed = NN_G_H.filter(lambda x: (len(x[1]) <= 1) & (x[0] in x[1]))\n",
    "    Seeds = Seeds.union(seed)\n",
    "\n",
    "    return [G, T, Seeds]\n",
    "\n",
    "\n",
    "def set_join(value):\n",
    "    if not value[1]:\n",
    "        return value[0][0]\n",
    "    else:\n",
    "        return value[0][0] | value[1][0]\n"
   ]
  },
  {
   "cell_type": "code",
   "execution_count": 18,
   "metadata": {},
   "outputs": [],
   "source": [
    "def Cracker(G):\n",
    "    n = 0\n",
    "    T = sc.parallelize([])\n",
    "    Seeds = sc.parallelize([])\n",
    "    while G.take(1):\n",
    "        n += 1\n",
    "        H = Min_Selection_Step(G)\n",
    "        G, T, Seeds = Pruning_Step(H, T, Seeds)\n",
    "    \n",
    "    return [T, Seeds.keys()]"
   ]
  },
  {
   "cell_type": "code",
   "execution_count": 19,
   "metadata": {},
   "outputs": [
    {
     "name": "stdout",
     "output_type": "stream",
     "text": [
      "CPU times: user 336 ms, sys: 47.3 ms, total: 383 ms\n",
      "Wall time: 1.89 s\n"
     ]
    }
   ],
   "source": [
    "%%time\n",
    "T, Seeds = Cracker(G)\n",
    "Seeds.collect()"
   ]
  },
  {
   "cell_type": "code",
   "execution_count": 20,
   "metadata": {},
   "outputs": [
    {
     "data": {
      "text/plain": [
       "[1870, 3228, 1389, 5837, 1]"
      ]
     },
     "execution_count": 20,
     "metadata": {},
     "output_type": "execute_result"
    }
   ],
   "source": [
    "Seeds.collect()"
   ]
  },
  {
   "cell_type": "markdown",
   "metadata": {},
   "source": [
    "## Seed_Propragation"
   ]
  },
  {
   "cell_type": "code",
   "execution_count": 21,
   "metadata": {},
   "outputs": [],
   "source": [
    "def Seed_Propragation(T, seed): \n",
    "    seed = seed.map(lambda x: (x, x))  \n",
    "    T_seed = sc.parallelize([(-1, (None, -1))])                       \n",
    "    \n",
    "    while T_seed.map(lambda x: (x[1])).lookup(None):\n",
    "        T_seed = seed.rightOuterJoin(T)\n",
    "        seed = T_seed.map(lambda x: (x[1][1], x[1][0])).union(seed)\n",
    "        \n",
    "    return T_seed"
   ]
  },
  {
   "cell_type": "code",
   "execution_count": 22,
   "metadata": {},
   "outputs": [
    {
     "name": "stdout",
     "output_type": "stream",
     "text": [
      "CPU times: user 131 ms, sys: 26.2 ms, total: 157 ms\n",
      "Wall time: 3.29 s\n"
     ]
    }
   ],
   "source": [
    "%%time\n",
    "T_prop = Seed_Propragation(T, Seeds)\n",
    "T_prop.collect()\n",
    "\n",
    "#Wht Wall time takes inproprotional time w.r.t CPU total time compared to others?"
   ]
  },
  {
   "cell_type": "code",
   "execution_count": 23,
   "metadata": {},
   "outputs": [
    {
     "data": {
      "text/plain": [
       "[(40, (1, 2724)),\n",
       " (40, (1, 2728)),\n",
       " (40, (1, 1612)),\n",
       " (40, (1, 2478)),\n",
       " (40, (1, 2641)),\n",
       " (40, (1, 7453)),\n",
       " (80, (1, 3034)),\n",
       " (80, (1, 3239)),\n",
       " (360, (1, 2885)),\n",
       " (121, (1, 828))]"
      ]
     },
     "execution_count": 23,
     "metadata": {},
     "output_type": "execute_result"
    }
   ],
   "source": [
    "T_prop.take(10)"
   ]
  }
 ],
 "metadata": {
  "kernelspec": {
   "display_name": "Python 3",
   "language": "python",
   "name": "python3"
  },
  "language_info": {
   "codemirror_mode": {
    "name": "ipython",
    "version": 3
   },
   "file_extension": ".py",
   "mimetype": "text/x-python",
   "name": "python",
   "nbconvert_exporter": "python",
   "pygments_lexer": "ipython3",
   "version": "3.6.4"
  }
 },
 "nbformat": 4,
 "nbformat_minor": 2
}
