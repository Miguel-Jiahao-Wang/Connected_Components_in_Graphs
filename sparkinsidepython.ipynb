{
 "cells": [
  {
   "cell_type": "code",
   "execution_count": 1,
   "metadata": {},
   "outputs": [],
   "source": [
    "from pyspark import SparkContext, SparkConf\n",
    "conf = SparkConf().setAppName(\"pyspark\")\n",
    "sc = SparkContext(conf=conf)"
   ]
  },
  {
   "cell_type": "code",
   "execution_count": 2,
   "metadata": {},
   "outputs": [],
   "source": [
    "#btc_raw = sc.textFile(\"graph_datasets/btc_02.txt\")\n",
    "btc_raw = sc.parallelize([(0,1), (1,2), (2,5), (5,8), (7,8), (3,7), (3,4), (3,6)])"
   ]
  },
  {
   "cell_type": "code",
   "execution_count": 24,
   "metadata": {},
   "outputs": [],
   "source": [
    "#btc = btc_raw.map(lambda x: x.split(\",\")).map(lambda x: (int(x[0]), int(x[1]))).flatMap(lambda x: [x, (x[1], x[0])]).groupByKey().map(lambda x: (x[0], [set(x[1]), True]))\n",
    "btc = btc_raw.flatMap(lambda x: [x, (x[1], x[0])]).groupByKey().map(lambda x: (x[0], [set(x[1]), True]))"
   ]
  },
  {
   "cell_type": "code",
   "execution_count": 25,
   "metadata": {},
   "outputs": [
    {
     "data": {
      "text/plain": [
       "[(0, [{1}, True]),\n",
       " (8, [{5, 7}, True]),\n",
       " (4, [{3}, True]),\n",
       " (1, [{0, 2}, True]),\n",
       " (5, [{2, 8}, True]),\n",
       " (2, [{1, 5}, True]),\n",
       " (6, [{3}, True]),\n",
       " (7, [{3, 8}, True]),\n",
       " (3, [{4, 6, 7}, True])]"
      ]
     },
     "execution_count": 25,
     "metadata": {},
     "output_type": "execute_result"
    }
   ],
   "source": [
    "btc.collect()"
   ]
  },
  {
   "cell_type": "code",
   "execution_count": 26,
   "metadata": {},
   "outputs": [],
   "source": [
    "nodes = btc.keys()"
   ]
  },
  {
   "cell_type": "code",
   "execution_count": 27,
   "metadata": {},
   "outputs": [
    {
     "data": {
      "text/plain": [
       "[0, 8, 4, 1, 5]"
      ]
     },
     "execution_count": 27,
     "metadata": {},
     "output_type": "execute_result"
    }
   ],
   "source": [
    "nodes.take(5)"
   ]
  },
  {
   "cell_type": "code",
   "execution_count": 28,
   "metadata": {},
   "outputs": [
    {
     "data": {
      "text/plain": [
       "[(0, 0), (8, 5), (4, 3), (1, 0), (5, 2), (2, 1), (6, 3), (7, 3), (3, 3)]"
      ]
     },
     "execution_count": 28,
     "metadata": {},
     "output_type": "execute_result"
    }
   ],
   "source": [
    "v_min = btc.map(lambda x: (x[0], min(x[1][0] | {x[0]})))\n",
    "v_min.collect()"
   ]
  },
  {
   "cell_type": "code",
   "execution_count": 29,
   "metadata": {},
   "outputs": [],
   "source": [
    "#v_min.lookup(98)"
   ]
  },
  {
   "cell_type": "code",
   "execution_count": 30,
   "metadata": {},
   "outputs": [
    {
     "data": {
      "text/plain": [
       "[(0, {0, 1}),\n",
       " (8, {5, 7, 8}),\n",
       " (4, {3, 4}),\n",
       " (1, {0, 1, 2}),\n",
       " (5, {2, 5, 8}),\n",
       " (2, {1, 2, 5}),\n",
       " (6, {3, 6}),\n",
       " (7, {3, 7, 8}),\n",
       " (3, {3, 4, 6, 7})]"
      ]
     },
     "execution_count": 30,
     "metadata": {},
     "output_type": "execute_result"
    }
   ],
   "source": [
    "NN_G_u = btc.map(lambda x: (x[0], (x[1][0] | {x[0]})))\n",
    "NN_G_u.collect()"
   ]
  },
  {
   "cell_type": "code",
   "execution_count": 31,
   "metadata": {},
   "outputs": [
    {
     "data": {
      "text/plain": [
       "[(0, ([0], [{0, 1}])),\n",
       " (8, ([5], [{5, 7, 8}])),\n",
       " (1, ([0], [{0, 1, 2}])),\n",
       " (2, ([1], [{1, 2, 5}])),\n",
       " (3, ([3], [{3, 4, 6, 7}])),\n",
       " (4, ([3], [{3, 4}])),\n",
       " (5, ([2], [{2, 5, 8}])),\n",
       " (6, ([3], [{3, 6}])),\n",
       " (7, ([3], [{3, 7, 8}]))]"
      ]
     },
     "execution_count": 31,
     "metadata": {},
     "output_type": "execute_result"
    }
   ],
   "source": [
    "addEdge1 = v_min.cogroup(NN_G_u).map(lambda x :(x[0], ( list(x[1][0]), list(x[1][1]))))\n",
    "addEdge1.collect()"
   ]
  },
  {
   "cell_type": "code",
   "execution_count": 32,
   "metadata": {},
   "outputs": [
    {
     "data": {
      "text/plain": [
       "[(8, {2, 3, 5}), (1, {0, 1}), (2, {0, 1, 2}), (5, {1, 2, 5}), (7, {3, 5})]"
      ]
     },
     "execution_count": 32,
     "metadata": {},
     "output_type": "execute_result"
    }
   ],
   "source": [
    "H = addEdge1.flatMap(lambda x: [(x[1][0][0], y) for y in x[1][1][0]]).map(lambda x: (x[1], x[0])).groupByKey().map(lambda x: (x[0], set(x[1]))).filter(lambda x: len(x[1]) > 1)\n",
    "H.collect() #H is filtered in terms of the length"
   ]
  },
  {
   "cell_type": "code",
   "execution_count": 33,
   "metadata": {},
   "outputs": [
    {
     "data": {
      "text/plain": [
       "[(8, 2), (1, 0), (2, 0), (5, 1), (7, 3)]"
      ]
     },
     "execution_count": 33,
     "metadata": {},
     "output_type": "execute_result"
    }
   ],
   "source": [
    "v_min = H.map(lambda x: (x[0], min(x[1])))\n",
    "v_min.collect()"
   ]
  },
  {
   "cell_type": "code",
   "execution_count": 36,
   "metadata": {},
   "outputs": [
    {
     "data": {
      "text/plain": [
       "[(8, {3, 5}), (1, {1}), (2, {1, 2}), (5, {2, 5}), (7, {5})]"
      ]
     },
     "execution_count": 36,
     "metadata": {},
     "output_type": "execute_result"
    }
   ],
   "source": [
    "NN_H_u = H.map(lambda x: (x[0], x[1] - {min(x[1])} ))\n",
    "NN_H_u.collect()"
   ]
  },
  {
   "cell_type": "code",
   "execution_count": 37,
   "metadata": {},
   "outputs": [
    {
     "data": {
      "text/plain": [
       "[(1, ([0], [{1}])),\n",
       " (2, ([0], [{1, 2}])),\n",
       " (5, ([1], [{2, 5}])),\n",
       " (7, ([3], [{5}])),\n",
       " (8, ([2], [{3, 5}]))]"
      ]
     },
     "execution_count": 37,
     "metadata": {},
     "output_type": "execute_result"
    }
   ],
   "source": [
    "addEdge2 = v_min.cogroup(NN_H_u).map(lambda x :(x[0], ( list(x[1][0]), list(x[1][1]))))\n",
    "addEdge2.collect()"
   ]
  },
  {
   "cell_type": "code",
   "execution_count": 39,
   "metadata": {},
   "outputs": [
    {
     "data": {
      "text/plain": [
       "[(0, {1, 2}), (1, {0, 2, 5}), (2, {0, 1, 3, 5}), (3, {2, 5}), (5, {1, 2, 3})]"
      ]
     },
     "execution_count": 39,
     "metadata": {},
     "output_type": "execute_result"
    }
   ],
   "source": [
    "G = addEdge2.flatMap(lambda x: [(x[1][0][0], y) for y in x[1][1][0]]).flatMap(lambda x: [x, (x[1], x[0])]).groupByKey().map(lambda x: (x[0], set(x[1])))\n",
    "G.collect()"
   ]
  },
  {
   "cell_type": "code",
   "execution_count": null,
   "metadata": {},
   "outputs": [],
   "source": []
  }
 ],
 "metadata": {
  "kernelspec": {
   "display_name": "Python 3",
   "language": "python",
   "name": "python3"
  },
  "language_info": {
   "codemirror_mode": {
    "name": "ipython",
    "version": 3
   },
   "file_extension": ".py",
   "mimetype": "text/x-python",
   "name": "python",
   "nbconvert_exporter": "python",
   "pygments_lexer": "ipython3",
   "version": "3.6.4"
  }
 },
 "nbformat": 4,
 "nbformat_minor": 2
}
