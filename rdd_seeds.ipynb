{
 "cells": [
  {
   "cell_type": "code",
   "execution_count": 1,
   "metadata": {},
   "outputs": [],
   "source": [
    "from pyspark import SparkContext, SparkConf\n",
    "conf = SparkConf().setAppName(\"pyspark\")\n",
    "sc = SparkContext(conf=conf)"
   ]
  },
  {
   "cell_type": "code",
   "execution_count": 2,
   "metadata": {},
   "outputs": [],
   "source": [
    "#btc_raw = sc.textFile(\"graph_datasets/soc-sign-bitcoinalpha.csv\")\n",
    "#btc_raw.take(10)\n",
    "#btc = btc_raw.map(lambda x: x.split(\",\")).map(lambda x: (int(x[0]), int(x[1]))).flatMap(lambda x: [x, (x[1], x[0])]).groupByKey().map(lambda x: (x[0], set(x[1])))"
   ]
  },
  {
   "cell_type": "code",
   "execution_count": 9,
   "metadata": {},
   "outputs": [],
   "source": [
    "btc_raw = sc.parallelize([(0,1), (1,2), (2,5), (5,8), (7,8), (3,7), (3,4), (3,6), (10,11), (10,12), (12,13)])\n",
    "G = btc_raw.flatMap(lambda x: [x, (x[1], x[0])]).groupByKey().map(lambda x: (x[0], set(x[1])))"
   ]
  },
  {
   "cell_type": "code",
   "execution_count": 25,
   "metadata": {},
   "outputs": [],
   "source": [
    "def Min_Selection_Step(G): #dictionary format RDD\n",
    "    v_min = G.map(lambda x: (x[0], min(x[1] | {x[0]})))\n",
    "    NN_G_u = G.map(lambda x: (x[0], (x[1] | {x[0]})))\n",
    "    \n",
    "    #Broadcasting\n",
    "    v_min_bc = sc.broadcast(dict(v_min.collect()))\n",
    "    addEdge = NN_G_u.map(lambda x: (x[0], (x[1], v_min_bc.value[x[0]]))).flatMap(lambda x: [(y, x[1][1]) for y in x[1][0]])\n",
    "    print(\"a\", addEdge.collect())\n",
    "    #Without broadcasting\n",
    "    #addEdge = NN_G_u.join(v_min).flatMap(lambda x: [(y, x[1][1]) for y in x[1][0]])\n",
    "    H = addEdge.groupByKey().map(lambda x: (x[0], set(x[1])))\n",
    "    print(\"H\",H.collect())\n",
    "    return H\n",
    "\n",
    "def Pruning_Step(H, T):\n",
    "    \n",
    "    #minimum node of the neighborhood: shared for following parts\n",
    "    v_min = H.map(lambda x: (x[0], min(x[1])))\n",
    "    v_min_bc = sc.broadcast(dict(v_min.collect())) #Broadcasting v_min\n",
    "    \n",
    "    #---------------G construction-------------------\n",
    "    H_filtered = H.filter(lambda x: len(x[1]) > 1)\n",
    "    NN_H_u = H_filtered.map(lambda x: (x[0], x[1] - {min(x[1])} ))\n",
    "    #With Broadcasting\n",
    "    addEdge2=NN_H_u.map(lambda x:(x[0],(x[1],v_min_bc.value[x[0]]))).flatMap(lambda x:[(x[1][1],y) for y in x[1][0]])\n",
    "    #Without broadcasting\n",
    "    #addEdge2 = NN_H_u.join(v_min).flatMap(lambda x: [(x[1][1], y) for y in x[1][0]])\n",
    "    G = addEdge2.flatMap(lambda x: [x, (x[1], x[0])]).groupByKey().map(lambda x: (x[0], set(x[1])))\n",
    "    \n",
    "    #---------------Tree construction--------------\n",
    "    deactiveNodes = H.filter(lambda x: x[0] not in x[1]).map(lambda x: (x[0], None))\n",
    "    #Without broadcasting\n",
    "    #addEdge3 = deactiveNodes.join(v_min).map(lambda x: (x[1][1], x[0]))\n",
    "    #With Broadcasting\n",
    "    addEdge3 = deactiveNodes.map(lambda x: (x[0], (x[1], v_min_bc.value[x[0]]))).map(lambda x: (x[1][1], x[0]))\n",
    "    T = T.union(addEdge3)\n",
    "\n",
    "    return [G, T]\n",
    "\n",
    "#Finding seeds\n",
    "def findSeeds(T): \n",
    "    keys = T\n",
    "    values = T.map(lambda x:(x[1], x[0]))\n",
    "    return keys.subtractByKey(values).map(lambda x: x[0]).distinct()\n",
    "\n",
    "def findSeeds1(T):\n",
    "    keys = T.keys().distinct().map(lambda x:(x,1))\n",
    "    values = T.values().distinct().map(lambda x:(x,1))\n",
    "    return keys.subtractByKey(values).map(lambda x: x[0])\n",
    "\n",
    "def findSeeds2(T):\n",
    "    T_inv = T.map(lambda x:(x[1], x[0]))\n",
    "    A = T.keys().distinct().map(lambda x:(x,1))        #Each distinct is a reduceByKey\n",
    "    B = T_inv.keys().distinct().map(lambda x:(x,1))\n",
    "    return A.leftOuterJoin(B).filter(lambda x: not x[1][1]).map(lambda x:x[0])"
   ]
  },
  {
   "cell_type": "code",
   "execution_count": 26,
   "metadata": {},
   "outputs": [],
   "source": [
    "def Cracker(G):\n",
    "    n = 0\n",
    "    T = sc.parallelize([])\n",
    "    while G.take(1):\n",
    "        n += 1\n",
    "        H = Min_Selection_Step(G)\n",
    "        G, T = Pruning_Step(H, T)\n",
    "    \n",
    "    return findSeeds(T)"
   ]
  },
  {
   "cell_type": "code",
   "execution_count": 27,
   "metadata": {},
   "outputs": [
    {
     "name": "stdout",
     "output_type": "stream",
     "text": [
      "a [(0, 0), (1, 0), (8, 5), (5, 5), (7, 5), (3, 3), (4, 3), (10, 10), (12, 10), (13, 10), (0, 0), (1, 0), (2, 0), (8, 2), (2, 2), (5, 2), (12, 12), (13, 12), (1, 1), (2, 1), (5, 1), (3, 3), (6, 3), (10, 10), (11, 10), (12, 10), (8, 3), (3, 3), (7, 3), (3, 3), (4, 3), (6, 3), (7, 3), (10, 10), (11, 10)]\n",
      "H [(0, {0}), (8, {2, 3, 5}), (4, {3}), (12, {10, 12}), (1, {0, 1}), (5, {1, 2, 5}), (13, {10, 12}), (10, {10}), (2, {0, 1, 2}), (6, {3}), (7, {3, 5}), (3, {3}), (11, {10})]\n",
      "a [(10, 10), (12, 10), (0, 0), (1, 0), (2, 0), (1, 1), (2, 1), (3, 1), (5, 1), (0, 0), (1, 0), (2, 0), (5, 0), (0, 0), (1, 0), (2, 0), (3, 0), (5, 0), (10, 10), (12, 10), (2, 2), (3, 2), (5, 2)]\n",
      "H [(12, {10}), (0, {0}), (1, {0, 1}), (5, {0, 1, 2}), (10, {10}), (2, {0, 1, 2}), (3, {0, 1, 2})]\n",
      "a [(0, 0), (1, 0), (2, 0), (0, 0), (1, 0), (0, 0), (2, 0)]\n",
      "H [(0, {0}), (1, {0}), (2, {0})]\n"
     ]
    },
    {
     "data": {
      "text/plain": [
       "[0, 10]"
      ]
     },
     "execution_count": 27,
     "metadata": {},
     "output_type": "execute_result"
    }
   ],
   "source": [
    "#Cracker with findSeeds\n",
    "Cracker(G).collect()"
   ]
  },
  {
   "cell_type": "code",
   "execution_count": 41,
   "metadata": {},
   "outputs": [],
   "source": [
    "def Min_Selection_Step(G): #dictionary format RDD\n",
    "    v_min = G.map(lambda x: (x[0], min(x[1][0] | {x[0]})))\n",
    "    NN_G_u = G.map(lambda x: (x[0], (x[1][0] | {x[0]}, x[1][1])))\n",
    "    \n",
    "    #Broadcasting\n",
    "    v_min_bc = sc.broadcast(dict(v_min.collect()))\n",
    "    addEdge = NN_G_u.map(lambda x: (x[0], (x[1][0], v_min_bc.value[x[0]], x[1][1])))\n",
    "    addEdge1 = addEdge.flatMap(lambda x: [(y, (x[1][1], x[1][2])) for y in x[1][0]])\n",
    "    print(addEdge1.collect())\n",
    "    #Without broadcasting\n",
    "    #addEdge = NN_G_u.join(v_min).flatMap(lambda x: [(y, x[1][1]) for y in x[1][0]])\n",
    "    \n",
    "    H = addEdge1.groupByKey().map(lambda x: (x[0], (list(x[1]))))\n",
    "\n",
    "    return H\n",
    "\n",
    "def Pruning_Step(H, T):\n",
    "    \n",
    "    #minimum node of the neighborhood: shared for following parts\n",
    "    v_min = H.map(lambda x: (x[0], min(x[1][0])))\n",
    "    v_min_bc = sc.broadcast(dict(v_min.collect())) #Broadcasting v_min\n",
    "    \n",
    "    #---------------G construction-------------------\n",
    "    H_filtered = H.filter(lambda x: len(x[1][0]) > 1)\n",
    "    NN_H_u = H_filtered.map(lambda x: (x[0], x[1][0] - {min(x[1][0])} ))\n",
    "    #With Broadcasting\n",
    "    addEdge2=NN_H_u.map(lambda x:(x[0],(x[1],v_min_bc.value[x[0]]))).flatMap(lambda x:[(x[1][1],y) for y in x[1][0]])\n",
    "    #Without broadcasting\n",
    "    #addEdge2 = NN_H_u.join(v_min).flatMap(lambda x: [(x[1][1], y) for y in x[1][0]])\n",
    "    G = addEdge2.flatMap(lambda x: [x, (x[1], x[0])]).groupByKey().map(lambda x: (x[0], set(x[1])))\n",
    "    \n",
    "    #---------------Tree construction--------------\n",
    "    deactiveNodes = H.filter(lambda x: x[0] not in x[1]).map(lambda x: (x[0], None))\n",
    "    #Without broadcasting\n",
    "    #addEdge3 = deactiveNodes.join(v_min).map(lambda x: (x[1][1], x[0]))\n",
    "    #With Broadcasting\n",
    "    addEdge3 = deactiveNodes.map(lambda x: (x[0], (x[1], v_min_bc.value[x[0]]))).map(lambda x: (x[1][1], x[0]))\n",
    "    T = T.union(addEdge3)\n",
    "\n",
    "    return [G, T]\n",
    "\n",
    "#Finding seeds\n",
    "def findSeeds(T): \n",
    "    keys = T\n",
    "    values = T.map(lambda x:(x[1], x[0]))\n",
    "    return keys.subtractByKey(values).map(lambda x: x[0]).distinct()\n",
    "\n",
    "def findSeeds1(T):\n",
    "    keys = T.keys().distinct().map(lambda x:(x,1))\n",
    "    values = T.values().distinct().map(lambda x:(x,1))\n",
    "    return keys.subtractByKey(values).map(lambda x: x[0])\n",
    "\n",
    "def findSeeds2(T):\n",
    "    T_inv = T.map(lambda x:(x[1], x[0]))\n",
    "    A = T.keys().distinct().map(lambda x:(x,1))        #Each distinct is a reduceByKey\n",
    "    B = T_inv.keys().distinct().map(lambda x:(x,1))\n",
    "    return A.leftOuterJoin(B).filter(lambda x: not x[1][1]).map(lambda x:x[0])"
   ]
  },
  {
   "cell_type": "code",
   "execution_count": 36,
   "metadata": {},
   "outputs": [],
   "source": [
    "btc_raw = sc.parallelize([(0,1), (1,2), (2,5), (5,8), (7,8), (3,7), (3,4), (3,6), (10,11), (10,12), (12,13)])\n",
    "G2 = btc_raw.flatMap(lambda x: [x, (x[1], x[0])]).groupByKey().map(lambda x: (x[0], (set(x[1]), True)))"
   ]
  },
  {
   "cell_type": "code",
   "execution_count": 42,
   "metadata": {},
   "outputs": [
    {
     "name": "stdout",
     "output_type": "stream",
     "text": [
      "[(0, (0, True)), (1, (0, True)), (8, (5, True)), (5, (5, True)), (7, (5, True)), (3, (3, True)), (4, (3, True)), (10, (10, True)), (12, (10, True)), (13, (10, True)), (0, (0, True)), (1, (0, True)), (2, (0, True)), (8, (2, True)), (2, (2, True)), (5, (2, True)), (12, (12, True)), (13, (12, True)), (1, (1, True)), (2, (1, True)), (5, (1, True)), (3, (3, True)), (6, (3, True)), (10, (10, True)), (11, (10, True)), (12, (10, True)), (8, (3, True)), (3, (3, True)), (7, (3, True)), (3, (3, True)), (4, (3, True)), (6, (3, True)), (7, (3, True)), (10, (10, True)), (11, (10, True))]\n"
     ]
    },
    {
     "data": {
      "text/plain": [
       "[(0, [(0, True), (0, True)]),\n",
       " (8, [(5, True), (2, True), (3, True)]),\n",
       " (4, [(3, True), (3, True)]),\n",
       " (12, [(10, True), (12, True), (10, True)]),\n",
       " (1, [(0, True), (0, True), (1, True)]),\n",
       " (5, [(5, True), (2, True), (1, True)]),\n",
       " (13, [(10, True), (12, True)]),\n",
       " (10, [(10, True), (10, True), (10, True)]),\n",
       " (2, [(0, True), (2, True), (1, True)]),\n",
       " (6, [(3, True), (3, True)]),\n",
       " (7, [(5, True), (3, True), (3, True)]),\n",
       " (3, [(3, True), (3, True), (3, True), (3, True)]),\n",
       " (11, [(10, True), (10, True)])]"
      ]
     },
     "execution_count": 42,
     "metadata": {},
     "output_type": "execute_result"
    }
   ],
   "source": [
    "H2 = Min_Selection_Step(G2)\n",
    "H2.collect()"
   ]
  },
  {
   "cell_type": "code",
   "execution_count": null,
   "metadata": {},
   "outputs": [],
   "source": []
  }
 ],
 "metadata": {
  "kernelspec": {
   "display_name": "Python 3",
   "language": "python",
   "name": "python3"
  },
  "language_info": {
   "codemirror_mode": {
    "name": "ipython",
    "version": 3
   },
   "file_extension": ".py",
   "mimetype": "text/x-python",
   "name": "python",
   "nbconvert_exporter": "python",
   "pygments_lexer": "ipython3",
   "version": "3.7.2"
  }
 },
 "nbformat": 4,
 "nbformat_minor": 2
}
