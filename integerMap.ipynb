{
 "cells": [
  {
   "cell_type": "code",
   "execution_count": 1,
   "metadata": {},
   "outputs": [],
   "source": [
    "from pyspark import SparkContext, SparkConf\n",
    "conf = SparkConf().setAppName(\"pyspark\")\n",
    "sc = SparkContext(conf=conf)"
   ]
  },
  {
   "cell_type": "code",
   "execution_count": 103,
   "metadata": {},
   "outputs": [
    {
     "name": "stdout",
     "output_type": "stream",
     "text": [
      "7752490\n"
     ]
    },
    {
     "ename": "KeyboardInterrupt",
     "evalue": "",
     "output_type": "error",
     "traceback": [
      "\u001b[0;31m---------------------------------------------------------------------------\u001b[0m",
      "\u001b[0;31mKeyboardInterrupt\u001b[0m                         Traceback (most recent call last)",
      "\u001b[0;32m<ipython-input-103-18a4c6ab873d>\u001b[0m in \u001b[0;36m<module>\u001b[0;34m()\u001b[0m\n\u001b[1;32m     17\u001b[0m \u001b[0;34m\u001b[0m\u001b[0m\n\u001b[1;32m     18\u001b[0m \u001b[0;34m\u001b[0m\u001b[0m\n\u001b[0;32m---> 19\u001b[0;31m \u001b[0mprint\u001b[0m\u001b[0;34m(\u001b[0m\u001b[0mG\u001b[0m\u001b[0;34m.\u001b[0m\u001b[0mtake\u001b[0m\u001b[0;34m(\u001b[0m\u001b[0;36m10\u001b[0m\u001b[0;34m)\u001b[0m\u001b[0;34m)\u001b[0m\u001b[0;34m\u001b[0m\u001b[0m\n\u001b[0m",
      "\u001b[0;32m~/anaconda3/lib/python3.6/site-packages/pyspark/rdd.py\u001b[0m in \u001b[0;36mtake\u001b[0;34m(self, num)\u001b[0m\n\u001b[1;32m   1358\u001b[0m \u001b[0;34m\u001b[0m\u001b[0m\n\u001b[1;32m   1359\u001b[0m             \u001b[0mp\u001b[0m \u001b[0;34m=\u001b[0m \u001b[0mrange\u001b[0m\u001b[0;34m(\u001b[0m\u001b[0mpartsScanned\u001b[0m\u001b[0;34m,\u001b[0m \u001b[0mmin\u001b[0m\u001b[0;34m(\u001b[0m\u001b[0mpartsScanned\u001b[0m \u001b[0;34m+\u001b[0m \u001b[0mnumPartsToTry\u001b[0m\u001b[0;34m,\u001b[0m \u001b[0mtotalParts\u001b[0m\u001b[0;34m)\u001b[0m\u001b[0;34m)\u001b[0m\u001b[0;34m\u001b[0m\u001b[0m\n\u001b[0;32m-> 1360\u001b[0;31m             \u001b[0mres\u001b[0m \u001b[0;34m=\u001b[0m \u001b[0mself\u001b[0m\u001b[0;34m.\u001b[0m\u001b[0mcontext\u001b[0m\u001b[0;34m.\u001b[0m\u001b[0mrunJob\u001b[0m\u001b[0;34m(\u001b[0m\u001b[0mself\u001b[0m\u001b[0;34m,\u001b[0m \u001b[0mtakeUpToNumLeft\u001b[0m\u001b[0;34m,\u001b[0m \u001b[0mp\u001b[0m\u001b[0;34m)\u001b[0m\u001b[0;34m\u001b[0m\u001b[0m\n\u001b[0m\u001b[1;32m   1361\u001b[0m \u001b[0;34m\u001b[0m\u001b[0m\n\u001b[1;32m   1362\u001b[0m             \u001b[0mitems\u001b[0m \u001b[0;34m+=\u001b[0m \u001b[0mres\u001b[0m\u001b[0;34m\u001b[0m\u001b[0m\n",
      "\u001b[0;32m~/anaconda3/lib/python3.6/site-packages/pyspark/context.py\u001b[0m in \u001b[0;36mrunJob\u001b[0;34m(self, rdd, partitionFunc, partitions, allowLocal)\u001b[0m\n\u001b[1;32m   1049\u001b[0m         \u001b[0;31m# SparkContext#runJob.\u001b[0m\u001b[0;34m\u001b[0m\u001b[0;34m\u001b[0m\u001b[0m\n\u001b[1;32m   1050\u001b[0m         \u001b[0mmappedRDD\u001b[0m \u001b[0;34m=\u001b[0m \u001b[0mrdd\u001b[0m\u001b[0;34m.\u001b[0m\u001b[0mmapPartitions\u001b[0m\u001b[0;34m(\u001b[0m\u001b[0mpartitionFunc\u001b[0m\u001b[0;34m)\u001b[0m\u001b[0;34m\u001b[0m\u001b[0m\n\u001b[0;32m-> 1051\u001b[0;31m         \u001b[0msock_info\u001b[0m \u001b[0;34m=\u001b[0m \u001b[0mself\u001b[0m\u001b[0;34m.\u001b[0m\u001b[0m_jvm\u001b[0m\u001b[0;34m.\u001b[0m\u001b[0mPythonRDD\u001b[0m\u001b[0;34m.\u001b[0m\u001b[0mrunJob\u001b[0m\u001b[0;34m(\u001b[0m\u001b[0mself\u001b[0m\u001b[0;34m.\u001b[0m\u001b[0m_jsc\u001b[0m\u001b[0;34m.\u001b[0m\u001b[0msc\u001b[0m\u001b[0;34m(\u001b[0m\u001b[0;34m)\u001b[0m\u001b[0;34m,\u001b[0m \u001b[0mmappedRDD\u001b[0m\u001b[0;34m.\u001b[0m\u001b[0m_jrdd\u001b[0m\u001b[0;34m,\u001b[0m \u001b[0mpartitions\u001b[0m\u001b[0;34m)\u001b[0m\u001b[0;34m\u001b[0m\u001b[0m\n\u001b[0m\u001b[1;32m   1052\u001b[0m         \u001b[0;32mreturn\u001b[0m \u001b[0mlist\u001b[0m\u001b[0;34m(\u001b[0m\u001b[0m_load_from_socket\u001b[0m\u001b[0;34m(\u001b[0m\u001b[0msock_info\u001b[0m\u001b[0;34m,\u001b[0m \u001b[0mmappedRDD\u001b[0m\u001b[0;34m.\u001b[0m\u001b[0m_jrdd_deserializer\u001b[0m\u001b[0;34m)\u001b[0m\u001b[0;34m)\u001b[0m\u001b[0;34m\u001b[0m\u001b[0m\n\u001b[1;32m   1053\u001b[0m \u001b[0;34m\u001b[0m\u001b[0m\n",
      "\u001b[0;32m~/anaconda3/lib/python3.6/site-packages/py4j/java_gateway.py\u001b[0m in \u001b[0;36m__call__\u001b[0;34m(self, *args)\u001b[0m\n\u001b[1;32m   1253\u001b[0m             \u001b[0mproto\u001b[0m\u001b[0;34m.\u001b[0m\u001b[0mEND_COMMAND_PART\u001b[0m\u001b[0;34m\u001b[0m\u001b[0m\n\u001b[1;32m   1254\u001b[0m \u001b[0;34m\u001b[0m\u001b[0m\n\u001b[0;32m-> 1255\u001b[0;31m         \u001b[0manswer\u001b[0m \u001b[0;34m=\u001b[0m \u001b[0mself\u001b[0m\u001b[0;34m.\u001b[0m\u001b[0mgateway_client\u001b[0m\u001b[0;34m.\u001b[0m\u001b[0msend_command\u001b[0m\u001b[0;34m(\u001b[0m\u001b[0mcommand\u001b[0m\u001b[0;34m)\u001b[0m\u001b[0;34m\u001b[0m\u001b[0m\n\u001b[0m\u001b[1;32m   1256\u001b[0m         return_value = get_return_value(\n\u001b[1;32m   1257\u001b[0m             answer, self.gateway_client, self.target_id, self.name)\n",
      "\u001b[0;32m~/anaconda3/lib/python3.6/site-packages/py4j/java_gateway.py\u001b[0m in \u001b[0;36msend_command\u001b[0;34m(self, command, retry, binary)\u001b[0m\n\u001b[1;32m    983\u001b[0m         \u001b[0mconnection\u001b[0m \u001b[0;34m=\u001b[0m \u001b[0mself\u001b[0m\u001b[0;34m.\u001b[0m\u001b[0m_get_connection\u001b[0m\u001b[0;34m(\u001b[0m\u001b[0;34m)\u001b[0m\u001b[0;34m\u001b[0m\u001b[0m\n\u001b[1;32m    984\u001b[0m         \u001b[0;32mtry\u001b[0m\u001b[0;34m:\u001b[0m\u001b[0;34m\u001b[0m\u001b[0m\n\u001b[0;32m--> 985\u001b[0;31m             \u001b[0mresponse\u001b[0m \u001b[0;34m=\u001b[0m \u001b[0mconnection\u001b[0m\u001b[0;34m.\u001b[0m\u001b[0msend_command\u001b[0m\u001b[0;34m(\u001b[0m\u001b[0mcommand\u001b[0m\u001b[0;34m)\u001b[0m\u001b[0;34m\u001b[0m\u001b[0m\n\u001b[0m\u001b[1;32m    986\u001b[0m             \u001b[0;32mif\u001b[0m \u001b[0mbinary\u001b[0m\u001b[0;34m:\u001b[0m\u001b[0;34m\u001b[0m\u001b[0m\n\u001b[1;32m    987\u001b[0m                 \u001b[0;32mreturn\u001b[0m \u001b[0mresponse\u001b[0m\u001b[0;34m,\u001b[0m \u001b[0mself\u001b[0m\u001b[0;34m.\u001b[0m\u001b[0m_create_connection_guard\u001b[0m\u001b[0;34m(\u001b[0m\u001b[0mconnection\u001b[0m\u001b[0;34m)\u001b[0m\u001b[0;34m\u001b[0m\u001b[0m\n",
      "\u001b[0;32m~/anaconda3/lib/python3.6/site-packages/py4j/java_gateway.py\u001b[0m in \u001b[0;36msend_command\u001b[0;34m(self, command)\u001b[0m\n\u001b[1;32m   1150\u001b[0m \u001b[0;34m\u001b[0m\u001b[0m\n\u001b[1;32m   1151\u001b[0m         \u001b[0;32mtry\u001b[0m\u001b[0;34m:\u001b[0m\u001b[0;34m\u001b[0m\u001b[0m\n\u001b[0;32m-> 1152\u001b[0;31m             \u001b[0manswer\u001b[0m \u001b[0;34m=\u001b[0m \u001b[0msmart_decode\u001b[0m\u001b[0;34m(\u001b[0m\u001b[0mself\u001b[0m\u001b[0;34m.\u001b[0m\u001b[0mstream\u001b[0m\u001b[0;34m.\u001b[0m\u001b[0mreadline\u001b[0m\u001b[0;34m(\u001b[0m\u001b[0;34m)\u001b[0m\u001b[0;34m[\u001b[0m\u001b[0;34m:\u001b[0m\u001b[0;34m-\u001b[0m\u001b[0;36m1\u001b[0m\u001b[0;34m]\u001b[0m\u001b[0;34m)\u001b[0m\u001b[0;34m\u001b[0m\u001b[0m\n\u001b[0m\u001b[1;32m   1153\u001b[0m             \u001b[0mlogger\u001b[0m\u001b[0;34m.\u001b[0m\u001b[0mdebug\u001b[0m\u001b[0;34m(\u001b[0m\u001b[0;34m\"Answer received: {0}\"\u001b[0m\u001b[0;34m.\u001b[0m\u001b[0mformat\u001b[0m\u001b[0;34m(\u001b[0m\u001b[0manswer\u001b[0m\u001b[0;34m)\u001b[0m\u001b[0;34m)\u001b[0m\u001b[0;34m\u001b[0m\u001b[0m\n\u001b[1;32m   1154\u001b[0m             \u001b[0;32mif\u001b[0m \u001b[0manswer\u001b[0m\u001b[0;34m.\u001b[0m\u001b[0mstartswith\u001b[0m\u001b[0;34m(\u001b[0m\u001b[0mproto\u001b[0m\u001b[0;34m.\u001b[0m\u001b[0mRETURN_MESSAGE\u001b[0m\u001b[0;34m)\u001b[0m\u001b[0;34m:\u001b[0m\u001b[0;34m\u001b[0m\u001b[0m\n",
      "\u001b[0;32m~/anaconda3/lib/python3.6/socket.py\u001b[0m in \u001b[0;36mreadinto\u001b[0;34m(self, b)\u001b[0m\n\u001b[1;32m    584\u001b[0m         \u001b[0;32mwhile\u001b[0m \u001b[0;32mTrue\u001b[0m\u001b[0;34m:\u001b[0m\u001b[0;34m\u001b[0m\u001b[0m\n\u001b[1;32m    585\u001b[0m             \u001b[0;32mtry\u001b[0m\u001b[0;34m:\u001b[0m\u001b[0;34m\u001b[0m\u001b[0m\n\u001b[0;32m--> 586\u001b[0;31m                 \u001b[0;32mreturn\u001b[0m \u001b[0mself\u001b[0m\u001b[0;34m.\u001b[0m\u001b[0m_sock\u001b[0m\u001b[0;34m.\u001b[0m\u001b[0mrecv_into\u001b[0m\u001b[0;34m(\u001b[0m\u001b[0mb\u001b[0m\u001b[0;34m)\u001b[0m\u001b[0;34m\u001b[0m\u001b[0m\n\u001b[0m\u001b[1;32m    587\u001b[0m             \u001b[0;32mexcept\u001b[0m \u001b[0mtimeout\u001b[0m\u001b[0;34m:\u001b[0m\u001b[0;34m\u001b[0m\u001b[0m\n\u001b[1;32m    588\u001b[0m                 \u001b[0mself\u001b[0m\u001b[0;34m.\u001b[0m\u001b[0m_timeout_occurred\u001b[0m \u001b[0;34m=\u001b[0m \u001b[0;32mTrue\u001b[0m\u001b[0;34m\u001b[0m\u001b[0m\n",
      "\u001b[0;31mKeyboardInterrupt\u001b[0m: "
     ]
    }
   ],
   "source": [
    "#btc_raw = sc.textFile(\"GRAF_datasets/GRAF_int/GRAF_120MB_int.txt\")\n",
    "#btc_raw.take(1)\n",
    "\n",
    "#for BTC\n",
    "G = btc_raw.map(lambda x: x.split(',')).map(lambda x: (int(x[0]), int(x[1]))).flatMap(lambda x: [x, (x[1], x[0])]).groupByKey().mapValues(lambda x: set(x))\n",
    "\n",
    "\n",
    "###G = btc_raw.map(lambda x: (int(x[0]), int(x[1]))).flatMap(lambda x: [x, (x[1], x[0])]).groupByKey().mapValues(lambda x: set(x))\n",
    "\n",
    "#for skitter\n",
    "#G = btc_raw.map(lambda x: x.split('\\t')).map(lambda x: (int(x[0]), int(x[1]))).flatMap(lambda x: [x, (x[1], x[0])]).groupByKey().mapValues(lambda x: set(x))\n",
    "\n",
    "\n",
    "#|E|\n",
    "\n",
    "print(btc_raw.count())\n",
    "\n",
    "\n",
    "print(G.take(10))"
   ]
  },
  {
   "cell_type": "code",
   "execution_count": 104,
   "metadata": {},
   "outputs": [
    {
     "data": {
      "text/plain": [
       "15301682"
      ]
     },
     "execution_count": 104,
     "metadata": {},
     "output_type": "execute_result"
    }
   ],
   "source": [
    "#|V|\n",
    "\n",
    "#for skitter\n",
    "#too long\n",
    "#btc_raw.map(lambda x: x.split('\\t')).map(lambda x: (int(x[0]), int(x[1]))).flatMap(lambda x: [x, (x[1], x[0])]).distinct().count()\n",
    "\n",
    "\n",
    "#for btc\n",
    "btc_raw.map(lambda x: x.split(',')).map(lambda x: (x[0], x[1])).flatMap(lambda x: [x, (x[1], x[0])]).distinct().count()"
   ]
  },
  {
   "cell_type": "markdown",
   "metadata": {},
   "source": [
    "## TrackSeed + Broadcasting"
   ]
  },
  {
   "cell_type": "code",
   "execution_count": 86,
   "metadata": {},
   "outputs": [],
   "source": [
    "def Min_Selection_Step(G): #dictionary format RDD\n",
    "    v_min = G.map(lambda x: (x[0], min(x[1] | {x[0]})))\n",
    "    NN_G_u = G.map(lambda x: (x[0], x[1] | {x[0]}))\n",
    "    #Broadcasting\n",
    "    v_min_bc = sc.broadcast(dict(v_min.collect()))\n",
    "    addEdge = NN_G_u.map(lambda x: (x[0], (x[1], v_min_bc.value[x[0]])) )\n",
    "    addEdge1 = addEdge.flatMap(lambda x: [(y, x[1][1]) for y in x[1][0]])\n",
    "    #Without broadcasting\n",
    "    #addEdge = NN_G_u.join(v_min).flatMap(lambda x: [(y, x[1][1]) for y in x[1][0]])\n",
    "\n",
    "    H = addEdge1.groupByKey().mapValues(lambda x: set(x))\n",
    "    return H\n",
    "\n",
    "def Pruning_Step(H, T, Seeds):\n",
    "    #minimum node of the neighborhood: shared for following parts\n",
    "    v_min = H.mapValues(lambda x: min(x))\n",
    "    v_min_bc = sc.broadcast(dict(v_min.collect())) #Broadcasting v_min\n",
    "    \n",
    "    #---------------G construction-------------------\n",
    "    H_filtered = H.filter(lambda x: len(x[1]) > 1)\n",
    "    NN_H_u = H_filtered.mapValues(lambda x: x - {min(x)} )\n",
    "    #With Broadcasting\n",
    "    addEdge2=NN_H_u.map(lambda x:(x[0],(x[1],v_min_bc.value[x[0]]))).flatMap(lambda x:[(x[1][1],y) for y in x[1][0]])\n",
    "    #Without broadcasting\n",
    "    #addEdge2 = NN_H_u.join(v_min).flatMap(lambda x: [(x[1][1], y) for y in x[1][0]])\n",
    "    G = addEdge2.flatMap(lambda x: [x, (x[1], x[0])]).groupByKey().mapValues(lambda x: set(x))\n",
    "    \n",
    "    #---------------Tree construction--------------\n",
    "    #The deactivated Nodes do not appear in G_{t+1}\n",
    "    deactiveNodes = H.filter(lambda x: x[0] not in x[1]).mapValues(lambda x: False)\n",
    "    #Without broadcasting\n",
    "    #addEdge3 = deactiveNodes.join(v_min).map(lambda x: (x[1][1], x[0]))\n",
    "    #With Broadcasting\n",
    "    addEdge3 = deactiveNodes.map(lambda x: (x[0], (x[1], v_min_bc.value[x[0]]))).map(lambda x: (x[1][1], x[0]))\n",
    "    T = T.union(addEdge3)\n",
    "\n",
    "    #--------------Find Seed-----------------\n",
    "    #Elements in H with neighborhood from G_{t+1}\n",
    "    NN_G_H = H.cogroup(G).mapValues(lambda x: (list(x[0]), list(x[1])) ).mapValues(lambda x: set_join(x) )\n",
    "\n",
    "    #Not sure is necessary to use True/False\n",
    "    #deactivated = NN_G_H.cogroup(deactiveNodes).map(lambda x: (x[0], (list(x[1][0]), list(x[1][1])) ))\n",
    "    #seed = deactivated.filter(lambda x: (len(x[1][0]) <= 1) & (x[0] in x[1][0]) & x[1][1]) \n",
    "    \n",
    "    seed = NN_G_H.filter(lambda x: (len(x[1]) <= 1) & (x[0] in x[1]))\n",
    "    Seeds = Seeds.union(seed)\n",
    "\n",
    "    return [G, T, Seeds]\n",
    "\n",
    "\n",
    "def set_join(value):\n",
    "    if not value[1]:\n",
    "        return value[0][0]\n",
    "    else:\n",
    "        return value[0][0] | value[1][0]\n"
   ]
  },
  {
   "cell_type": "code",
   "execution_count": 87,
   "metadata": {},
   "outputs": [],
   "source": [
    "def Seed_Propragation(T, seed): \n",
    "    seed = seed.map(lambda x: (x, x))  \n",
    "    T_seed = sc.parallelize([(-1, (None, -1))])                       \n",
    "    \n",
    "    while T_seed.map(lambda x: (x[1])).lookup(None):\n",
    "        T_seed = seed.rightOuterJoin(T)\n",
    "        seed = T_seed.map(lambda x: (x[1][1], x[1][0])).union(seed)\n",
    "        \n",
    "    return T_seed"
   ]
  },
  {
   "cell_type": "code",
   "execution_count": 88,
   "metadata": {},
   "outputs": [],
   "source": [
    "import time"
   ]
  },
  {
   "cell_type": "code",
   "execution_count": 89,
   "metadata": {},
   "outputs": [],
   "source": [
    "def Cracker(G):\n",
    "    \n",
    "    n = 0\n",
    "    T = sc.parallelize([])\n",
    "    Seeds = sc.parallelize([])\n",
    "    while G.take(1):\n",
    "        n += 1\n",
    "        H = Min_Selection_Step(G)\n",
    "        G, T, Seeds = Pruning_Step(H, T, Seeds)\n",
    "    \n",
    "    return Seeds.keys()\n",
    "    #return Seed_Propragation(T, Seeds.keys())"
   ]
  },
  {
   "cell_type": "code",
   "execution_count": 98,
   "metadata": {},
   "outputs": [
    {
     "name": "stdout",
     "output_type": "stream",
     "text": [
      "239040\n",
      "time: 93.03521203994751\n"
     ]
    }
   ],
   "source": [
    "import time\n",
    "\n",
    "time_i = time.time()\n",
    "\n",
    "#T, Seeds = Cracker(G)\n",
    "Seeds = Cracker(G)\n",
    "print(len(Seeds.collect()))\n",
    "\n",
    "time_e = time.time()\n",
    "\n",
    "print(\"time:\", time_e - time_i)"
   ]
  },
  {
   "cell_type": "code",
   "execution_count": 69,
   "metadata": {},
   "outputs": [
    {
     "data": {
      "text/plain": [
       "'000057ca08002382ad01c351cde95ef6dcebaa8f9dc834502e24340c0c5c73ff'"
      ]
     },
     "execution_count": 69,
     "metadata": {},
     "output_type": "execute_result"
    }
   ],
   "source": [
    "#min(Seeds.collect())"
   ]
  },
  {
   "cell_type": "code",
   "execution_count": 102,
   "metadata": {},
   "outputs": [
    {
     "name": "stdout",
     "output_type": "stream",
     "text": [
      "281911\n",
      "Time employed: 827.702502\n"
     ]
    }
   ],
   "source": [
    "def Min_Selection_Step(G): #dictionary format RDD\n",
    "    v_min = G.map(lambda x: (x[0], min(x[1] | {x[0]})))\n",
    "    NN_G_u = G.map(lambda x: (x[0], x[1] | {x[0]}))\n",
    "    #Broadcasting\n",
    "    #v_min_bc = sc.broadcast(dict(v_min.collect()))\n",
    "    #addEdge = NN_G_u.map(lambda x: (x[0], (x[1], v_min_bc.value[x[0]])) )\n",
    "    #addEdge1 = addEdge.flatMap(lambda x: [(y, x[1][1]) for y in x[1][0]])\n",
    "    #Without broadcasting\n",
    "    addEdge1 = NN_G_u.join(v_min).flatMap(lambda x: [(y, x[1][1]) for y in x[1][0]])\n",
    "    H = addEdge1.groupByKey().mapValues(lambda x: set(x))\n",
    "    return H\n",
    "\n",
    "def Pruning_Step(H, T, Seeds):\n",
    "    #H = H.cache()\n",
    "    #minimum node of the neighborhood: shared for following parts\n",
    "    v_min = H.mapValues(lambda x: min(x))\n",
    "    #v_min_bc = sc.broadcast(dict(v_min.collect())) #Broadcasting v_min\n",
    "\n",
    "    #---------------G construction-------------------\n",
    "    H_filtered = H.filter(lambda x: len(x[1]) > 1)\n",
    "    NN_H_u = H_filtered.mapValues(lambda x: x - {min(x)} )\n",
    "    #With Broadcasting\n",
    "    #addEdge2=NN_H_u.map(lambda x:(x[0],(x[1],v_min_bc.value[x[0]]))).flatMap(lambda x:[(x[1][1],y) for y in x[1][0]])\n",
    "    #Without broadcasting\n",
    "    addEdge2 = NN_H_u.join(v_min).flatMap(lambda x: [(x[1][1], y) for y in x[1][0]])\n",
    "    G = addEdge2.flatMap(lambda x: [x, (x[1], x[0])]).groupByKey().mapValues(lambda x: set(x))\n",
    "\n",
    "    #---------------Tree construction--------------\n",
    "    #The deactivated Nodes do not appear in G_{t+1}\n",
    "    deactiveNodes = H.filter(lambda x: x[0] not in x[1]).mapValues(lambda x: False)\n",
    "    #Without broadcasting\n",
    "    addEdge3 = deactiveNodes.join(v_min).map(lambda x: (x[1][1], x[0]))\n",
    "    #With Broadcasting\n",
    "    #addEdge3 = deactiveNodes.map(lambda x: (x[0], (x[1], v_min_bc.value[x[0]]))).map(lambda x: (x[1][1], x[0]))\n",
    "    T = T.union(addEdge3)\n",
    "\n",
    "    #--------------Find Seed-----------------\n",
    "    #Elements in H with neighborhood from G_{t+1}\n",
    "    NN_G_H = H.cogroup(G).mapValues(lambda x: (list(x[0]), list(x[1])) ).mapValues(lambda x: set_join(x) )\n",
    "\n",
    "    #Not sure is necessary to use True/False\n",
    "    #deactivated = NN_G_H.cogroup(deactiveNodes).map(lambda x: (x[0], (list(x[1][0]), list(x[1][1])) ))\n",
    "    #seed = deactivated.filter(lambda x: (len(x[1][0]) <= 1) & (x[0] in x[1][0]) & x[1][1])\n",
    "\n",
    "    seed = NN_G_H.filter(lambda x: (len(x[1]) <= 1) & (x[0] in x[1]))\n",
    "    Seeds = Seeds.union(seed)\n",
    "\n",
    "    return [G, T, Seeds]\n",
    "\n",
    "\n",
    "def set_join(value):\n",
    "    if not value[1]:\n",
    "        return value[0][0]\n",
    "    else:\n",
    "        return value[0][0] | value[1][0]\n",
    "\n",
    "#-------------Seed propagation-----------\n",
    "def Seed_Propragation(T, seed):\n",
    "    seed = seed.map(lambda x: (x, x))\n",
    "    T_seed = sc.parallelize([(-1, (None, -1))])\n",
    "    #Maybe no need to propagate if lookup only re-compute T_seed\n",
    "    while T_seed.values().lookup(None):\n",
    "        T_seed = seed.rightOuterJoin(T)\n",
    "        seed = T_seed.map(lambda x: (x[1][1], x[1][0])).union(seed)\n",
    "\n",
    "    return T_seed\n",
    "\n",
    "\n",
    "#-----------------------------Main------------------------\n",
    "def Cracker(G):\n",
    "    n = 0\n",
    "    T = sc.parallelize([])\n",
    "    Seeds = sc.parallelize([])\n",
    "\n",
    "    while G.take(1):\n",
    "        n += 1\n",
    "        H = Min_Selection_Step(G)\n",
    "        G, T, Seeds = Pruning_Step(H, T, Seeds)\n",
    "\n",
    "    #T_persisted = T.persist()\n",
    "    #Seeds_persisted = Seeds.keys().persist()\n",
    "\n",
    "    #T_prop = Seed_Propragation(T_persisted, Seeds_persisted)\n",
    "    #T_prop = Seed_Propragation(T, Seeds.keys())\n",
    "\n",
    "    return Seeds.keys()\n",
    "\n",
    "#-----------Function call-----------------\n",
    "\n",
    "init = time.time()\n",
    "#Cracker with findSeeds\n",
    "seeds = Cracker(G)\n",
    "#T_prop.collect()\n",
    "\n",
    "print(len(seeds.collect()))\n",
    "\n",
    "\n",
    "end = time.time()\n",
    "print(\"Time employed: %f\" % (end - init))\n"
   ]
  }
 ],
 "metadata": {
  "kernelspec": {
   "display_name": "Python 3",
   "language": "python",
   "name": "python3"
  },
  "language_info": {
   "codemirror_mode": {
    "name": "ipython",
    "version": 3
   },
   "file_extension": ".py",
   "mimetype": "text/x-python",
   "name": "python",
   "nbconvert_exporter": "python",
   "pygments_lexer": "ipython3",
   "version": "3.6.4"
  }
 },
 "nbformat": 4,
 "nbformat_minor": 2
}
