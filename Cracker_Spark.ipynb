{
 "cells": [
  {
   "cell_type": "code",
   "execution_count": 1,
   "metadata": {},
   "outputs": [],
   "source": [
    "from pyspark import SparkContext, SparkConf\n",
    "conf = SparkConf().setAppName(\"pyspark\")\n",
    "sc = SparkContext(conf=conf)"
   ]
  },
  {
   "cell_type": "code",
   "execution_count": 14,
   "metadata": {},
   "outputs": [],
   "source": [
    "#btc_raw = sc.textFile(\"graph_datasets/soc-sign-bitcoinalpha.csv\")\n",
    "btc_raw = sc.parallelize([(0,1), (1,2), (2,5), (5,8), (7,8), (3,7), (3,4), (3,6), (10,11), (10,12), (12,13)])"
   ]
  },
  {
   "cell_type": "code",
   "execution_count": 3,
   "metadata": {},
   "outputs": [
    {
     "data": {
      "text/plain": [
       "['7188,1,10,1407470400',\n",
       " '430,1,10,1376539200',\n",
       " '3134,1,10,1369713600',\n",
       " '3026,1,10,1350014400',\n",
       " '3010,1,10,1347854400',\n",
       " '804,1,10,1337572800',\n",
       " '160,1,10,1394683200',\n",
       " '95,1,9,1384578000',\n",
       " '377,1,7,1414728000',\n",
       " '888,1,7,1365652800']"
      ]
     },
     "execution_count": 3,
     "metadata": {},
     "output_type": "execute_result"
    }
   ],
   "source": [
    "btc_raw.take(10)"
   ]
  },
  {
   "cell_type": "code",
   "execution_count": 15,
   "metadata": {},
   "outputs": [],
   "source": [
    "#btc = btc_raw.map(lambda x: x.split(\",\")).map(lambda x: (int(x[0]), int(x[1]))).flatMap(lambda x: [x, (x[1], x[0])]).groupByKey().map(lambda x: (x[0], set(x[1])))\n",
    "btc = btc_raw.flatMap(lambda x: [x, (x[1], x[0])]).groupByKey().map(lambda x: (x[0], set(x[1])))"
   ]
  },
  {
   "cell_type": "code",
   "execution_count": 5,
   "metadata": {},
   "outputs": [],
   "source": [
    "def Min_Selection_Step(G): #dictionary format RDD\n",
    "    v_min = G.map(lambda x: (x[0], min(x[1] | {x[0]})))\n",
    "    NN_G_u = G.map(lambda x: (x[0], (x[1] | {x[0]})))\n",
    "    addEdge1 = v_min.cogroup(NN_G_u).map(lambda x :(x[0], ( list(x[1][0]), list(x[1][1])))) #if it is possible to reduce to one MapReduce job\n",
    "    H = addEdge1.flatMap(lambda x: [(x[1][0][0], y) for y in x[1][1][0]]).map(lambda x: (x[1], x[0])).groupByKey().map(lambda x: (x[0], set(x[1])))#.filter(lambda x: len(x[1]) > 1)\n",
    "    return H\n",
    "\n",
    "def Pruning_Step(H, T):\n",
    "    H_filtered = H.filter(lambda x: len(x[1]) > 1)\n",
    "    v_min_filtered = H_filtered.map(lambda x: (x[0], min(x[1])))\n",
    "    NN_H_u = H_filtered.map(lambda x: (x[0], x[1] - {min(x[1])} ))\n",
    "    addEdge2 = v_min_filtered.cogroup(NN_H_u).map(lambda x :(x[0], ( list(x[1][0]), list(x[1][1]))))\n",
    "    G = addEdge2.flatMap(lambda x: [(x[1][0][0], y) for y in x[1][1][0]]).flatMap(lambda x: [x, (x[1], x[0])]).groupByKey().map(lambda x: (x[0], set(x[1])))\n",
    "    \n",
    "    \n",
    "    #deactiviation\n",
    "    deactiveNodes = H.filter(lambda x: x[0] not in x[1]).map(lambda x: (x[0], None))\n",
    "    v_min = H.map(lambda x: (x[0], min(x[1])))\n",
    "    addEdge3 = deactiveNodes.join(v_min).map(lambda x: (x[1][1], x[0]))\n",
    "    T = T.union(addEdge3)\n",
    "\n",
    "    \n",
    "    return [G, T]\n",
    "\n",
    "def findSeeds(T):\n",
    "    T_rev = T.map(lambda x:(x[1], x[0]))\n",
    "    A = T.keys().distinct().map(lambda x:(x,1))\n",
    "    B = T_rev.keys().distinct().map(lambda x:(x,1))\n",
    "    return A.leftOuterJoin(B).filter(lambda x: not x[1][1]).map(lambda x:x[0])"
   ]
  },
  {
   "cell_type": "code",
   "execution_count": 8,
   "metadata": {},
   "outputs": [],
   "source": [
    "def Cracker(G):\n",
    "    n = 0\n",
    "    T = sc.parallelize([])\n",
    "    while G.take(1):\n",
    "        n += 1\n",
    "        print(n)\n",
    "        H = Min_Selection_Step(G)\n",
    "        G, T = Pruning_Step(H, T)\n",
    "    \n",
    "    return T"
   ]
  },
  {
   "cell_type": "code",
   "execution_count": 70,
   "metadata": {},
   "outputs": [
    {
     "name": "stdout",
     "output_type": "stream",
     "text": [
      "1\n",
      "2\n",
      "3\n"
     ]
    }
   ],
   "source": [
    "T = Cracker(btc)"
   ]
  },
  {
   "cell_type": "code",
   "execution_count": 109,
   "metadata": {},
   "outputs": [],
   "source": [
    "def Seed_Propragation(T, seed): \n",
    "    seed = seed.map(lambda x: (x, x))  \n",
    "    T_seed = sc.parallelize([(-1, (None, -1))])                       \n",
    "    \n",
    "    while T_seed.map(lambda x: (x[1])).lookup(None):\n",
    "        T_seed = seed.rightOuterJoin(T)\n",
    "        seed = T_seed.map(lambda x: (x[1][1], x[1][0])).union(seed)\n",
    "        \n",
    "    return T_seed"
   ]
  },
  {
   "cell_type": "code",
   "execution_count": 110,
   "metadata": {},
   "outputs": [
    {
     "data": {
      "text/plain": [
       "[0, 10]"
      ]
     },
     "execution_count": 110,
     "metadata": {},
     "output_type": "execute_result"
    }
   ],
   "source": [
    "seed = findSeeds(T)\n",
    "seed.collect()"
   ]
  },
  {
   "cell_type": "code",
   "execution_count": 111,
   "metadata": {},
   "outputs": [
    {
     "data": {
      "text/plain": [
       "[(3, 4),\n",
       " (3, 6),\n",
       " (3, 7),\n",
       " (2, 8),\n",
       " (10, 11),\n",
       " (10, 13),\n",
       " (0, 3),\n",
       " (0, 5),\n",
       " (10, 12),\n",
       " (0, 1),\n",
       " (0, 2)]"
      ]
     },
     "execution_count": 111,
     "metadata": {},
     "output_type": "execute_result"
    }
   ],
   "source": [
    "T.collect()"
   ]
  },
  {
   "cell_type": "code",
   "execution_count": 112,
   "metadata": {},
   "outputs": [
    {
     "data": {
      "text/plain": [
       "[(0, (0, 3)),\n",
       " (0, (0, 5)),\n",
       " (0, (0, 1)),\n",
       " (0, (0, 2)),\n",
       " (2, (0, 8)),\n",
       " (3, (0, 4)),\n",
       " (3, (0, 6)),\n",
       " (3, (0, 7)),\n",
       " (10, (10, 11)),\n",
       " (10, (10, 13)),\n",
       " (10, (10, 12))]"
      ]
     },
     "execution_count": 112,
     "metadata": {},
     "output_type": "execute_result"
    }
   ],
   "source": [
    "Seed_Propragation(T, seed).collect()"
   ]
  },
  {
   "cell_type": "markdown",
   "metadata": {},
   "source": [
    "## Big Example"
   ]
  },
  {
   "cell_type": "code",
   "execution_count": 118,
   "metadata": {},
   "outputs": [
    {
     "data": {
      "text/plain": [
       "[(7188, {1})]"
      ]
     },
     "execution_count": 118,
     "metadata": {},
     "output_type": "execute_result"
    }
   ],
   "source": [
    "btc_big_raw = sc.textFile(\"graph_datasets/soc-sign-bitcoinalpha.csv\")\n",
    "btc_big = btc_big_raw.map(lambda x: x.split(\",\")).map(lambda x: (int(x[0]), int(x[1]))).flatMap(lambda x: [x, (x[1], x[0])]).groupByKey().map(lambda x: (x[0], set(x[1])))\n",
    "btc_big.take(1)"
   ]
  },
  {
   "cell_type": "code",
   "execution_count": 119,
   "metadata": {},
   "outputs": [
    {
     "name": "stdout",
     "output_type": "stream",
     "text": [
      "1\n",
      "2\n",
      "3\n"
     ]
    }
   ],
   "source": [
    "T_big = Cracker(btc_big)"
   ]
  },
  {
   "cell_type": "code",
   "execution_count": 121,
   "metadata": {},
   "outputs": [
    {
     "data": {
      "text/plain": [
       "[1, 1389, 3228, 1870, 5837]"
      ]
     },
     "execution_count": 121,
     "metadata": {},
     "output_type": "execute_result"
    }
   ],
   "source": [
    "seed_big = findSeeds(T_big)\n",
    "seed_big.collect()"
   ]
  },
  {
   "cell_type": "code",
   "execution_count": 126,
   "metadata": {},
   "outputs": [
    {
     "data": {
      "text/plain": [
       "[(2, (1, 2842)),\n",
       " (45, (1, 776)),\n",
       " (1, (1, 285)),\n",
       " (13, (1, 1591)),\n",
       " (1, (1, 2942)),\n",
       " (1, (1, 137)),\n",
       " (1, (1, 7558)),\n",
       " (1, (1, 1375)),\n",
       " (2, (1, 1416)),\n",
       " (1, (1, 2434))]"
      ]
     },
     "execution_count": 126,
     "metadata": {},
     "output_type": "execute_result"
    }
   ],
   "source": [
    "Seed_Propragation(T_big, seed_big).takeSample(False, 10, 123)"
   ]
  },
  {
   "cell_type": "markdown",
   "metadata": {},
   "source": [
    "## Explaination"
   ]
  },
  {
   "cell_type": "code",
   "execution_count": 99,
   "metadata": {},
   "outputs": [
    {
     "data": {
      "text/plain": [
       "[(0, 0), (10, 10)]"
      ]
     },
     "execution_count": 99,
     "metadata": {},
     "output_type": "execute_result"
    }
   ],
   "source": [
    "seed = sc.parallelize([0,10]).map(lambda x: (x, x))\n",
    "seed.collect()"
   ]
  },
  {
   "cell_type": "code",
   "execution_count": 100,
   "metadata": {},
   "outputs": [
    {
     "data": {
      "text/plain": [
       "[(3, 4),\n",
       " (3, 6),\n",
       " (3, 7),\n",
       " (2, 8),\n",
       " (10, 11),\n",
       " (10, 13),\n",
       " (0, 3),\n",
       " (0, 5),\n",
       " (10, 12),\n",
       " (0, 1),\n",
       " (0, 2)]"
      ]
     },
     "execution_count": 100,
     "metadata": {},
     "output_type": "execute_result"
    }
   ],
   "source": [
    "T.collect()"
   ]
  },
  {
   "cell_type": "code",
   "execution_count": 101,
   "metadata": {},
   "outputs": [
    {
     "data": {
      "text/plain": [
       "[(0, (0, 3)),\n",
       " (0, (0, 5)),\n",
       " (0, (0, 1)),\n",
       " (0, (0, 2)),\n",
       " (2, (None, 8)),\n",
       " (3, (None, 4)),\n",
       " (3, (None, 6)),\n",
       " (3, (None, 7)),\n",
       " (10, (10, 11)),\n",
       " (10, (10, 13)),\n",
       " (10, (10, 12))]"
      ]
     },
     "execution_count": 101,
     "metadata": {},
     "output_type": "execute_result"
    }
   ],
   "source": [
    "initialTree = seed.rightOuterJoin(T)\n",
    "initialTree.collect()"
   ]
  },
  {
   "cell_type": "code",
   "execution_count": 102,
   "metadata": {},
   "outputs": [
    {
     "data": {
      "text/plain": [
       "[(3, 0),\n",
       " (5, 0),\n",
       " (1, 0),\n",
       " (2, 0),\n",
       " (8, None),\n",
       " (4, None),\n",
       " (6, None),\n",
       " (7, None),\n",
       " (11, 10),\n",
       " (13, 10),\n",
       " (12, 10),\n",
       " (0, 0),\n",
       " (10, 10)]"
      ]
     },
     "execution_count": 102,
     "metadata": {},
     "output_type": "execute_result"
    }
   ],
   "source": [
    "seed2 = initialTree.map(lambda x: (x[1][1], x[1][0])).union(seed)\n",
    "seed2.collect()"
   ]
  },
  {
   "cell_type": "code",
   "execution_count": 103,
   "metadata": {},
   "outputs": [
    {
     "data": {
      "text/plain": [
       "[(0, (0, 3)),\n",
       " (0, (0, 5)),\n",
       " (0, (0, 1)),\n",
       " (0, (0, 2)),\n",
       " (2, (0, 8)),\n",
       " (3, (0, 4)),\n",
       " (3, (0, 6)),\n",
       " (3, (0, 7)),\n",
       " (10, (10, 11)),\n",
       " (10, (10, 13)),\n",
       " (10, (10, 12))]"
      ]
     },
     "execution_count": 103,
     "metadata": {},
     "output_type": "execute_result"
    }
   ],
   "source": [
    "secondTree = seed2.rightOuterJoin(T)\n",
    "secondTree.collect()"
   ]
  },
  {
   "cell_type": "markdown",
   "metadata": {},
   "source": [
    "Stop condition"
   ]
  },
  {
   "cell_type": "code",
   "execution_count": 104,
   "metadata": {},
   "outputs": [
    {
     "data": {
      "text/plain": [
       "[8, 4, 6, 7]"
      ]
     },
     "execution_count": 104,
     "metadata": {},
     "output_type": "execute_result"
    }
   ],
   "source": [
    "initialTree.map(lambda x: (x[1])).lookup(None)"
   ]
  },
  {
   "cell_type": "code",
   "execution_count": 105,
   "metadata": {},
   "outputs": [
    {
     "data": {
      "text/plain": [
       "[]"
      ]
     },
     "execution_count": 105,
     "metadata": {},
     "output_type": "execute_result"
    }
   ],
   "source": [
    "secondTree.map(lambda x: (x[1])).lookup(None)"
   ]
  }
 ],
 "metadata": {
  "kernelspec": {
   "display_name": "Python 3",
   "language": "python",
   "name": "python3"
  },
  "language_info": {
   "codemirror_mode": {
    "name": "ipython",
    "version": 3
   },
   "file_extension": ".py",
   "mimetype": "text/x-python",
   "name": "python",
   "nbconvert_exporter": "python",
   "pygments_lexer": "ipython3",
   "version": "3.6.4"
  }
 },
 "nbformat": 4,
 "nbformat_minor": 2
}
